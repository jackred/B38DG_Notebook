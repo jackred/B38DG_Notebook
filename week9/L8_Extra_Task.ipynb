{
 "cells": [
  {
   "cell_type": "markdown",
   "id": "44ee873d-ccf4-4571-ad5b-98a491a7fb7a",
   "metadata": {},
   "source": [
    "Create a class that represent the node of a stack. \n",
    "It should habe a \"value\" attribute and a \"next\" attribute.   \n",
    "Implement the following method:\n",
    "- prt: print the value of the node"
   ]
  },
  {
   "cell_type": "code",
   "execution_count": 1,
   "id": "a930f8a7-f814-449f-89d0-7414b759ce4b",
   "metadata": {},
   "outputs": [],
   "source": [
    "# Complete here"
   ]
  },
  {
   "cell_type": "markdown",
   "id": "c39c57f7-4a5d-464b-9192-ad04f249349b",
   "metadata": {},
   "source": [
    "Create a class that implement a stack with the following methods:\n",
    "- pop: remove the top of the stack, and return the value of the top\n",
    "- push_node: take a node in input, and push it to the top\n",
    "- push: take a value in input, create a node with it, and push the new node to the top of the stack\n",
    "- prt: print the value in the stack\n",
    "- collect: pop each item and store the result in a list"
   ]
  },
  {
   "cell_type": "code",
   "execution_count": 2,
   "id": "1f625fca-7c99-41fb-aa31-5c9d42d26352",
   "metadata": {},
   "outputs": [],
   "source": [
    "# Complete here"
   ]
  },
  {
   "cell_type": "markdown",
   "id": "fe45e77c-5bfa-427c-9262-dda488390c5c",
   "metadata": {},
   "source": [
    "Create a class that represent the node of a queue. It should habe a \"value\" attribute and a \"previous\" attribute.\n",
    "Implement the following method:\n",
    "\n",
    "    prt: print the value of the node\n",
    "\n"
   ]
  },
  {
   "cell_type": "code",
   "execution_count": 3,
   "id": "6d45d215-59d3-444b-933e-2f1bfa4dc805",
   "metadata": {},
   "outputs": [],
   "source": [
    "# Complete here"
   ]
  },
  {
   "cell_type": "markdown",
   "id": "bf77c37a-a6fb-477b-9860-8e82261397e5",
   "metadata": {},
   "source": [
    "Create a class that implement a queue with the following methods:\n",
    "- pop: remove the front of the queue, and return the value of the front\n",
    "- push_node: take a node in input, and push it to the back\n",
    "- push: take a value in input, create a node with it, and push the new node to the back of the stack\n",
    "- prt: print the value in the stack \n",
    "- collect: pop each item and store the result in a list"
   ]
  },
  {
   "cell_type": "code",
   "execution_count": 4,
   "id": "fd8554a6-3d6f-45d5-9f4d-9cbb9372f052",
   "metadata": {},
   "outputs": [],
   "source": [
    "# Complete here"
   ]
  },
  {
   "cell_type": "markdown",
   "id": "e94251b8-6cab-4148-8beb-fa1c3f9722a8",
   "metadata": {},
   "source": [
    "----------"
   ]
  },
  {
   "cell_type": "markdown",
   "id": "47f4475a-a381-4b12-8a72-2331c0b584fe",
   "metadata": {},
   "source": [
    "Write a function taking a string as input, which return the words in a reverse order.  \n",
    "Example:  \n",
    "'Hey how are you' -> 'you are how hey'  \n",
    "'one two three' -> 'three two one'  \n",
    "Use space character as delimiter for words.  \n",
    "\n",
    "You should use a queue and a stack to solve this task."
   ]
  },
  {
   "cell_type": "code",
   "execution_count": 5,
   "id": "1f706f28-1f19-46b1-9470-5f5509cf56d8",
   "metadata": {},
   "outputs": [],
   "source": [
    "# collect here"
   ]
  }
 ],
 "metadata": {
  "kernelspec": {
   "display_name": "Python 3 (ipykernel)",
   "language": "python",
   "name": "python3"
  },
  "language_info": {
   "codemirror_mode": {
    "name": "ipython",
    "version": 3
   },
   "file_extension": ".py",
   "mimetype": "text/x-python",
   "name": "python",
   "nbconvert_exporter": "python",
   "pygments_lexer": "ipython3",
   "version": "3.8.10"
  }
 },
 "nbformat": 4,
 "nbformat_minor": 5
}
