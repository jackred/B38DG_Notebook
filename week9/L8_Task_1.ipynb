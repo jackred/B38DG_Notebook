{
 "cells": [
  {
   "cell_type": "markdown",
   "id": "e1a68fd5-6a4a-456f-a632-e2f84e489efe",
   "metadata": {},
   "source": [
    "stack"
   ]
  },
  {
   "cell_type": "code",
   "execution_count": 1,
   "id": "e078bcf9-871e-40a6-b578-86e6a7fad0c6",
   "metadata": {},
   "outputs": [],
   "source": [
    "class Node():\n",
    "    def __init__(self, data, next=None):\n",
    "        self.data = data\n",
    "        self.next = next"
   ]
  },
  {
   "cell_type": "code",
   "execution_count": 4,
   "id": "382b9304-1775-49a6-b117-a0c5a54c4466",
   "metadata": {},
   "outputs": [],
   "source": [
    "def push(node_1, node_2):\n",
    "    node_2.next = node_1\n",
    "    return node_2"
   ]
  },
  {
   "cell_type": "code",
   "execution_count": 5,
   "id": "a120c391-3b8c-4fb7-8350-7f6433dca479",
   "metadata": {},
   "outputs": [],
   "source": [
    "def pop(node_1):\n",
    "    tmp = node_1.next\n",
    "    node_1.next = None\n",
    "    return node_1, tmp"
   ]
  },
  {
   "cell_type": "code",
   "execution_count": 6,
   "id": "73965e99-ee5b-448b-a9f1-22b4fd1c80a0",
   "metadata": {},
   "outputs": [],
   "source": [
    "s = Node(1)\n",
    "s2 = Node(2)\n",
    "top = push(s, s2)"
   ]
  },
  {
   "cell_type": "markdown",
   "id": "7bca7a04-3fb8-4058-a4c9-f1b8631c4394",
   "metadata": {},
   "source": [
    "queue"
   ]
  },
  {
   "cell_type": "code",
   "execution_count": 10,
   "id": "9717b25d-5ae2-4af3-8933-7d8b0e42859f",
   "metadata": {},
   "outputs": [],
   "source": [
    "class Node():\n",
    "    def __init__(self, data, next=None):\n",
    "        self.data = data\n",
    "        self.prev = next"
   ]
  },
  {
   "cell_type": "code",
   "execution_count": 11,
   "id": "28ddcbee-d25b-4b01-86e8-201890484773",
   "metadata": {},
   "outputs": [],
   "source": [
    "# n1: previous back\n",
    "# n2: value to push\n",
    "# return new back\n",
    "def push(node_1, node_2):\n",
    "    node_1.prev = node_2\n",
    "    return node_2"
   ]
  },
  {
   "cell_type": "code",
   "execution_count": 12,
   "id": "7c416773-2639-483e-bf52-4e568816b16a",
   "metadata": {},
   "outputs": [],
   "source": [
    "# n1: head/front\n",
    "# return front value, and new front\n",
    "def pop(node_1):\n",
    "    tmp = node_1.prev\n",
    "    node_1.prev = None\n",
    "    return node_1, tmp"
   ]
  },
  {
   "cell_type": "code",
   "execution_count": 14,
   "id": "61aaf144-4825-44ad-95a9-8f64e781b6f5",
   "metadata": {},
   "outputs": [],
   "source": [
    "top = Node(1)\n",
    "s2 = Node(2)\n",
    "back = push(top, s2)"
   ]
  },
  {
   "cell_type": "code",
   "execution_count": 19,
   "id": "cb4e8002-ec65-4f1b-994a-94b4e96c9663",
   "metadata": {},
   "outputs": [
    {
     "data": {
      "text/plain": [
       "(2, 2)"
      ]
     },
     "execution_count": 19,
     "metadata": {},
     "output_type": "execute_result"
    }
   ],
   "source": [
    "top.prev.data, back.data"
   ]
  }
 ],
 "metadata": {
  "kernelspec": {
   "display_name": "Python 3 (ipykernel)",
   "language": "python",
   "name": "python3"
  },
  "language_info": {
   "codemirror_mode": {
    "name": "ipython",
    "version": 3
   },
   "file_extension": ".py",
   "mimetype": "text/x-python",
   "name": "python",
   "nbconvert_exporter": "python",
   "pygments_lexer": "ipython3",
   "version": "3.8.10"
  }
 },
 "nbformat": 4,
 "nbformat_minor": 5
}
