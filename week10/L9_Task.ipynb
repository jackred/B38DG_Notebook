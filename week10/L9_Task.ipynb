{
 "cells": [
  {
   "cell_type": "markdown",
   "metadata": {},
   "source": [
    "# Tree Traversal\n",
    "#Using the Node class to build a binary tree\n",
    "#Source: Hands-On Data Structures and Algorithms with Python - Second Edition"
   ]
  },
  {
   "cell_type": "code",
   "execution_count": 1,
   "metadata": {},
   "outputs": [],
   "source": [
    "class Node:\n",
    "    def __init__(self, data): \n",
    "        self.data = data \n",
    "        self.right_child = None \n",
    "        self.left_child = None "
   ]
  },
  {
   "cell_type": "code",
   "execution_count": 2,
   "metadata": {},
   "outputs": [],
   "source": [
    "#creating 4 nodes to test the class\n",
    "n1 = Node(\"root node\")  \n",
    "n2 = Node(\"left child node\") \n",
    "n3 = Node(\"right child node\") \n",
    "n4 = Node(\"left grandchild node\") "
   ]
  },
  {
   "cell_type": "code",
   "execution_count": 3,
   "metadata": {},
   "outputs": [],
   "source": [
    "#connecting the nodes to each other\n",
    "n1.left_child = n2 \n",
    "n1.right_child = n3 \n",
    "n2.left_child = n4 "
   ]
  },
  {
   "cell_type": "code",
   "execution_count": 4,
   "metadata": {},
   "outputs": [
    {
     "name": "stdout",
     "output_type": "stream",
     "text": [
      "root node\n",
      "left child node\n",
      "left grandchild node\n"
     ]
    }
   ],
   "source": [
    "current = n1 \n",
    "while current is not None: \n",
    "    print(current.data) \n",
    "    current = current.left_child "
   ]
  },
  {
   "cell_type": "code",
   "execution_count": 5,
   "metadata": {},
   "outputs": [
    {
     "name": "stdout",
     "output_type": "stream",
     "text": [
      "root node\n",
      "left child node\n",
      "left grandchild node\n",
      "\n",
      "\n",
      "This is inorder traversal\n",
      "left grandchild node\n",
      "left child node\n",
      "root node\n",
      "right child node\n",
      "\n",
      "\n",
      "This is preorder traversal\n",
      "root node\n",
      "left child node\n",
      "left grandchild node\n",
      "right child node\n",
      "\n",
      "\n",
      "This is postorder traversal\n",
      "left grandchild node\n",
      "left child node\n",
      "right child node\n",
      "root node\n"
     ]
    }
   ],
   "source": [
    " #current = n1 \n",
    "  #  while current: \n",
    "   #     print(current.data) \n",
    "    #    current = current.left_child #performing tree traversal\n",
    "current = n1 \n",
    "while current is not None: \n",
    "    print(current.data) \n",
    "    current = current.left_child #traversing the left subtree until the end of the tree has been reached\n",
    "\n",
    "print(\"\\n\" )\n",
    "#use recursion for tree traversal\n",
    "def inorder(root_node): \n",
    "#left subtree-root-right subtree        \n",
    "        current = root_node \n",
    "        if current is None: #empty tree check\n",
    "            return \n",
    "        inorder(current.left_child) #traverse left subtree\n",
    "        print(current.data) \n",
    "        inorder(current.right_child) #traverse right subtree\n",
    "\n",
    "\n",
    "def preorder(root_node): \n",
    "#root-left subtree-right subtree\n",
    "        current = root_node \n",
    "        if current is None: #empty tree check\n",
    "            return \n",
    "        print(current.data) #start with the root node\n",
    "        preorder(current.left_child) #traverse left subtree\n",
    "        preorder(current.right_child) #traverse right subtree  \n",
    "\n",
    "\n",
    "def postorder(root_node): \n",
    "#left/right subtree-root\n",
    "\n",
    "        current = root_node \n",
    "        if current is None:  #empty tree check\n",
    "            return \n",
    "        postorder(current.left_child) #start: traverse left subtree\n",
    "        postorder(current.right_child)  #traverse right subtree \n",
    "        print(current.data)\n",
    "\n",
    "\n",
    "print(\"This is inorder traversal\")\n",
    "inorder( n1)\n",
    "\n",
    "print(\"\\n\" )\n",
    "print(\"This is preorder traversal\")\n",
    "preorder( n1)\n",
    "\n",
    "print(\"\\n\" )\n",
    "print(\"This is postorder traversal\")\n",
    "postorder(n1)\n"
   ]
  },
  {
   "cell_type": "code",
   "execution_count": 6,
   "metadata": {},
   "outputs": [
    {
     "name": "stdout",
     "output_type": "stream",
     "text": [
      "Breadth First Traversal: ['root node', 'left child node', 'right child node', 'left grandchild node']\n"
     ]
    }
   ],
   "source": [
    "from collections import deque \n",
    "#deque is used to maintain a queue\n",
    "\n",
    "class Node: \n",
    "    def __init__(self, data): \n",
    "        self.data = data \n",
    "        self.right_child = None \n",
    "        self.left_child = None \n",
    "\n",
    "n1 = Node(\"root node\")  \n",
    "n2 = Node(\"left child node\") \n",
    "n3 = Node(\"right child node\") \n",
    "n4 = Node(\"left grandchild node\") \n",
    "n1.left_child = n2 \n",
    "n1.right_child = n3 \n",
    "n2.left_child = n4 \n",
    "\n",
    "\n",
    "\n",
    "def breadth_first_traversal(root_node): \n",
    "    list_of_nodes = [] #keep track of the visited nodes\n",
    "    traversal_queue = deque([root_node]) \n",
    "\n",
    "    while len(traversal_queue) > 0:#check the length of queue\n",
    "        #the node at the front of the queue is dequeued(popped) and appended to teh list of nodes\n",
    "        node = traversal_queue.popleft() \n",
    "        list_of_nodes.append(node.data) \n",
    "        if node.left_child is not None: #enqueue left child\n",
    "            traversal_queue.append(node.left_child) \n",
    "        if node.right_child is not None: #enqueue right child\n",
    "            traversal_queue.append(node.right_child) \n",
    "    return list_of_nodes \n",
    "\n",
    "l=[1, 2, 3, 4, 5, 6, 7]\n",
    "q=[]\n",
    "\n",
    "print(\"Breadth First Traversal:\",breadth_first_traversal(n1))"
   ]
  }
 ],
 "metadata": {
  "kernelspec": {
   "display_name": "Python 3 (ipykernel)",
   "language": "python",
   "name": "python3"
  },
  "language_info": {
   "codemirror_mode": {
    "name": "ipython",
    "version": 3
   },
   "file_extension": ".py",
   "mimetype": "text/x-python",
   "name": "python",
   "nbconvert_exporter": "python",
   "pygments_lexer": "ipython3",
   "version": "3.8.10"
  }
 },
 "nbformat": 4,
 "nbformat_minor": 4
}
