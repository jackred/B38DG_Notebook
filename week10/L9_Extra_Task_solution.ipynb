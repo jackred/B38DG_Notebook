{
 "cells": [
  {
   "cell_type": "markdown",
   "id": "98dc8ac9-f913-4e93-ac5d-5502784b6b95",
   "metadata": {},
   "source": [
    "Create a class that represent the node of a tree. It should habe a \"right_child\" attribute and a \"left_child\" attribute.\n",
    "Implement the following method:\n",
    "\n",
    "    prt: print the value of the node\n",
    "\n"
   ]
  },
  {
   "cell_type": "code",
   "execution_count": 16,
   "id": "d1ca3fb4-90eb-45df-b2ac-b6101b88fdf3",
   "metadata": {},
   "outputs": [],
   "source": [
    "class TNode():\n",
    "    def __init__(self, value):\n",
    "        self.value = value\n",
    "        self.right_child = None\n",
    "        self.left_child = None\n",
    "        \n",
    "    def prt(self, start='', end='\\n'):\n",
    "        print(f'{start}{self.value}', end=end)"
   ]
  },
  {
   "cell_type": "markdown",
   "id": "8d0fa9ea-387f-4574-81cc-7abbd1474ee0",
   "metadata": {},
   "source": [
    "Using the tree structure you defined, create a family tree for the following family (each name is unique, there are not 2 person with the same name). The root node should be Anna, and you should only add her childrens and their childrens. The addiitonal parent should not be added.\n",
    "- (Parent) Anna & *Patrick*\n",
    "  - (Child) John, Max\n",
    "- (Parent) John & *Alice*\n",
    "  - (Child) Sean\n",
    "- (Parent) Lea & *Lewis*\n",
    "  - (Child) Kieran, Daisy\n",
    "- (Parent) Hugo & *Eloise*\n",
    "  - (Child) Aurelie\n",
    "- (Parent) Max & *Lucie*\n",
    "  - (Child) Laureline\n",
    "- (Parent) Laureline & *Arnold*\n",
    "  - (Child) Mathilde\n",
    "- (Parent) Mathilde & *Mayelle*\n",
    "  - (Child) Jean\n",
    "- (Parent) Sean & *Marylyn*\n",
    "  - (Child) Lea\n",
    "- (Parent) Daisy & *Thibault*\n",
    "  - (Child) Hugo, Louis\n",
    "- (Parent) Kieran & *Danielle*\n",
    "  - (Child) Angus"
   ]
  },
  {
   "cell_type": "code",
   "execution_count": 17,
   "id": "985917cb-dd3f-427b-91ce-bdeecb3a6b4d",
   "metadata": {},
   "outputs": [],
   "source": [
    "root = TNode('Anna')\n",
    "c1 = TNode('Max')\n",
    "c2 = TNode('John')\n",
    "root.right_child = c1\n",
    "root.left_child = c2\n",
    "c3 = TNode('Sean')\n",
    "c2.right_child = c3\n",
    "c4 = TNode('Lea')\n",
    "c5 = TNode('Kieran')\n",
    "c6 = TNode('Daisy')\n",
    "c4.right_child = c5\n",
    "c4.left_child = c6\n",
    "c7 = TNode('Hugo')\n",
    "c8 = TNode('Aurelie')\n",
    "c7.right_child = c8\n",
    "c9 = TNode('Laureline')\n",
    "c1.right_child = c9\n",
    "c10 = TNode('Mathilde')\n",
    "c9.right_child = c10\n",
    "c11 = TNode('Jean')\n",
    "c10.right_child = c11\n",
    "c3.right_child = c4\n",
    "c6.right_child = c7\n",
    "c12 = TNode('Angus')\n",
    "c5.right_child = c12"
   ]
  },
  {
   "cell_type": "markdown",
   "id": "d6d76e0d-406f-42b0-bd27-8e58e9e64552",
   "metadata": {},
   "source": [
    "Write a function `get_parent` which takes in argument one node of a Tree and one string `child`. \n",
    "- If a node with the value of `child` exist, return True and the name of its parent node\n",
    "- If it doesn't exist, return False"
   ]
  },
  {
   "cell_type": "code",
   "execution_count": 118,
   "id": "b5d2e98e-5103-4fd2-91b6-ffa5633df946",
   "metadata": {},
   "outputs": [],
   "source": [
    "def get_parent(node, child, parent=None):\n",
    "    if node is None:\n",
    "        return False, 'not found'\n",
    "    if node.value == child:\n",
    "        if parent is None:\n",
    "            return False, 'Error, the root does not have parent'\n",
    "        else:\n",
    "            return True, parent.value\n",
    "    else:\n",
    "        res, nd = get_parent(node.right_child, child, node)\n",
    "        if not res:\n",
    "            res, nd = get_parent(node.left_child, child, node)\n",
    "        return res, nd"
   ]
  },
  {
   "cell_type": "code",
   "execution_count": 124,
   "id": "afa2fa94-a5c6-4b9b-a1ba-694ef3087173",
   "metadata": {},
   "outputs": [
    {
     "data": {
      "text/plain": [
       "(True, 'Lea')"
      ]
     },
     "execution_count": 124,
     "metadata": {},
     "output_type": "execute_result"
    }
   ],
   "source": [
    "get_parent(root, 'Daisy')"
   ]
  },
  {
   "cell_type": "markdown",
   "id": "c211b75f-ef01-491b-8a35-66edf1fae631",
   "metadata": {},
   "source": [
    "Write a function `print_tree` that iterates through a tree and display the value of each node"
   ]
  },
  {
   "cell_type": "code",
   "execution_count": 99,
   "id": "992b8b4e-4361-4ba9-9468-49d28a6ac8a2",
   "metadata": {},
   "outputs": [],
   "source": [
    "def print_tree(node, indent=''):\n",
    "    if node is None:\n",
    "        return\n",
    "    else:\n",
    "        node.prt(start=indent, end='\\n')\n",
    "        indent = len(indent) * ' '\n",
    "        print_tree(node.right_child, indent+'|_')\n",
    "        print_tree(node.left_child, indent+'|_')"
   ]
  },
  {
   "cell_type": "code",
   "execution_count": 100,
   "id": "a5bcdc16-f242-4847-85e8-d7e48322213b",
   "metadata": {},
   "outputs": [
    {
     "name": "stdout",
     "output_type": "stream",
     "text": [
      "Anna\n",
      "|_Max\n",
      "  |_Laureline\n",
      "    |_Mathilde\n",
      "      |_Jean\n",
      "|_John\n",
      "  |_Sean\n",
      "    |_Lea\n",
      "      |_Kieran\n",
      "        |_Angus\n",
      "      |_Daisy\n",
      "        |_Hugo\n",
      "          |_Aurelie\n"
     ]
    }
   ],
   "source": [
    "print_tree(root)"
   ]
  },
  {
   "cell_type": "markdown",
   "id": "5b9443dc-abab-4c1e-ad7c-85ace5dbb2db",
   "metadata": {},
   "source": [
    "Write a function `add_child` which takes in argument one node, and two value `child` and `parent`. It should add a node with the value `child` as a child to a node with the value `parent`. It should return a boolean saying whether or not a child has been added"
   ]
  },
  {
   "cell_type": "code",
   "execution_count": 130,
   "id": "67f3fbbd-5411-41f8-ad36-4ecfb0ca0ec9",
   "metadata": {},
   "outputs": [],
   "source": [
    "def add_child(node, child, parent):\n",
    "    if node is None:\n",
    "        return False\n",
    "    if node.value == parent:\n",
    "        if node.right_child is None:\n",
    "            node.right_child = TNode(child)\n",
    "            return True\n",
    "        elif node.left_child is None:\n",
    "            node.left_child = TNode(child)\n",
    "            return True\n",
    "        else:\n",
    "            return False\n",
    "    else:\n",
    "        res = add_child(node.right_child, child, parent)\n",
    "        if not res:\n",
    "            res = add_child(node.left_child, child, parent)\n",
    "        return res"
   ]
  },
  {
   "cell_type": "code",
   "execution_count": 131,
   "id": "6fac668f-ff15-49a9-ad8f-a72213c7e367",
   "metadata": {},
   "outputs": [
    {
     "data": {
      "text/plain": [
       "False"
      ]
     },
     "execution_count": 131,
     "metadata": {},
     "output_type": "execute_result"
    }
   ],
   "source": [
    "add_child(root, 'Baptiste', 'Anna')"
   ]
  },
  {
   "cell_type": "code",
   "execution_count": 132,
   "id": "08c32bf4-6ba1-4c1a-9cb9-f6206d733553",
   "metadata": {},
   "outputs": [
    {
     "data": {
      "text/plain": [
       "True"
      ]
     },
     "execution_count": 132,
     "metadata": {},
     "output_type": "execute_result"
    }
   ],
   "source": [
    "add_child(root, 'Baptiste', 'Max')"
   ]
  },
  {
   "cell_type": "code",
   "execution_count": 133,
   "id": "a56a57eb-0deb-4656-8e29-4b337e6f7fcf",
   "metadata": {},
   "outputs": [
    {
     "name": "stdout",
     "output_type": "stream",
     "text": [
      "Anna\n",
      "|_Max\n",
      "  |_Laureline\n",
      "    |_Mathilde\n",
      "      |_Jean\n",
      "  |_Baptiste\n",
      "|_John\n",
      "  |_Sean\n",
      "    |_Lea\n",
      "      |_Kieran\n",
      "        |_Angus\n",
      "      |_Daisy\n",
      "        |_Hugo\n",
      "          |_Aurelie\n"
     ]
    }
   ],
   "source": [
    "print_tree(root)"
   ]
  }
 ],
 "metadata": {
  "kernelspec": {
   "display_name": "Python 3 (ipykernel)",
   "language": "python",
   "name": "python3"
  },
  "language_info": {
   "codemirror_mode": {
    "name": "ipython",
    "version": 3
   },
   "file_extension": ".py",
   "mimetype": "text/x-python",
   "name": "python",
   "nbconvert_exporter": "python",
   "pygments_lexer": "ipython3",
   "version": "3.8.12"
  }
 },
 "nbformat": 4,
 "nbformat_minor": 5
}
