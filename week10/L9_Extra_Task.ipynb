{
 "cells": [
  {
   "cell_type": "markdown",
   "id": "98dc8ac9-f913-4e93-ac5d-5502784b6b95",
   "metadata": {},
   "source": [
    "Create a class that represent the node of a tree. It should habe a \"right_child\" attribute and a \"left_child\" attribute.\n",
    "Implement the following method:\n",
    "\n",
    "    prt: print the value of the node\n",
    "\n"
   ]
  },
  {
   "cell_type": "code",
   "execution_count": null,
   "id": "d1ca3fb4-90eb-45df-b2ac-b6101b88fdf3",
   "metadata": {},
   "outputs": [],
   "source": [
    "# complete here"
   ]
  },
  {
   "cell_type": "markdown",
   "id": "8d0fa9ea-387f-4574-81cc-7abbd1474ee0",
   "metadata": {},
   "source": [
    "Using the tree structure you defined, create a family tree for the following family (each name is unique, there are not 2 person with the same name). The root node should be Anna, and you should only add her childrens and their childrens. The addiitonal parent should not be added.\n",
    "- (Parent) Anna & *Patrick*\n",
    "  - (Child) John, Max\n",
    "- (Parent) John & *Alice*\n",
    "  - (Child) Sean\n",
    "- (Parent) Lea & *Lewis*\n",
    "  - (Child) Kieran, Daisy\n",
    "- (Parent) Hugo & *Eloise*\n",
    "  - (Child) Aurelie\n",
    "- (Parent) Max & *Lucie*\n",
    "  - (Child) Laureline\n",
    "- (Parent) Laureline & *Arnold*\n",
    "  - (Child) Mathilde\n",
    "- (Parent) Mathilde & *Mayelle*\n",
    "  - (Child) Jean\n",
    "- (Parent) Sean & *Marylyn*\n",
    "  - (Child) Lea\n",
    "- (Parent) Daisy & *Thibault*\n",
    "  - (Child) Hugo, Louis\n",
    "- (Parent) Kieran & *Danielle*\n",
    "  - (Child) Angus"
   ]
  },
  {
   "cell_type": "code",
   "execution_count": null,
   "id": "985917cb-dd3f-427b-91ce-bdeecb3a6b4d",
   "metadata": {},
   "outputs": [],
   "source": [
    "# Complete here"
   ]
  },
  {
   "cell_type": "markdown",
   "id": "d6d76e0d-406f-42b0-bd27-8e58e9e64552",
   "metadata": {},
   "source": [
    "Write a function `get_parent` which takes in argument one node of a Tree and one string `child`. \n",
    "- If a node with the value of `child` exist, return True and the name of its parent node\n",
    "- If it doesn't exist, return False"
   ]
  },
  {
   "cell_type": "code",
   "execution_count": null,
   "id": "b5d2e98e-5103-4fd2-91b6-ffa5633df946",
   "metadata": {},
   "outputs": [],
   "source": [
    "# Complete here"
   ]
  },
  {
   "cell_type": "markdown",
   "id": "1cd17194-2713-49fe-9285-060f4eca110b",
   "metadata": {},
   "source": [
    "Write a function `print_tree` that iterates through a tree and display the value of each node"
   ]
  },
  {
   "cell_type": "code",
   "execution_count": 2,
   "id": "a21c5a20-1d04-460f-8684-dbfc7f98eb2d",
   "metadata": {},
   "outputs": [],
   "source": [
    "# Complete here"
   ]
  },
  {
   "cell_type": "markdown",
   "id": "1c6b951b-b795-4db6-9c2e-43fb55e34733",
   "metadata": {},
   "source": [
    "Write a function `add_child` which takes in argument one node, and two value `child` and `parent`. It should add a node with the value `child` as a child to a node with the value `parent`. It should return a boolean saying whether or not a child has been added"
   ]
  },
  {
   "cell_type": "code",
   "execution_count": 3,
   "id": "f3673889-d70f-44b4-923b-3f28b58d650a",
   "metadata": {},
   "outputs": [],
   "source": [
    "# Complete here"
   ]
  }
 ],
 "metadata": {
  "kernelspec": {
   "display_name": "Python 3 (ipykernel)",
   "language": "python",
   "name": "python3"
  },
  "language_info": {
   "codemirror_mode": {
    "name": "ipython",
    "version": 3
   },
   "file_extension": ".py",
   "mimetype": "text/x-python",
   "name": "python",
   "nbconvert_exporter": "python",
   "pygments_lexer": "ipython3",
   "version": "3.8.12"
  }
 },
 "nbformat": 4,
 "nbformat_minor": 5
}
