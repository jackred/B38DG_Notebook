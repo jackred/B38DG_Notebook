{
 "cells": [
  {
   "cell_type": "markdown",
   "id": "aef34654-c565-4fa1-9cdc-f3a25da52413",
   "metadata": {},
   "source": [
    "1. Define the Abstract Data Type for creating 1D arrays."
   ]
  },
  {
   "cell_type": "markdown",
   "id": "017dc53c-ca74-447f-b0b6-f41a38d6fd77",
   "metadata": {},
   "source": [
    "**Definition**\n",
    "- Store data of one data type only\n",
    "- Data is indexed (numerically)\n",
    "- It has a finite size\n",
    "- Its size cannot be changed\n",
    "- It has default value for each element"
   ]
  },
  {
   "cell_type": "markdown",
   "id": "be3bae84-3f91-4256-b48e-3f3f96a2b474",
   "metadata": {},
   "source": [
    "**Operations**\n",
    "- Change one element's value\n",
    "- Traverse the array\n",
    "- Get the size of the array\n",
    "- Get one element's value"
   ]
  },
  {
   "cell_type": "markdown",
   "id": "9919705c-2036-48f6-b24a-a894cd2e5bd8",
   "metadata": {},
   "source": [
    "2. Define the Abstract Data Type for extracting records from a file and producing a report (given below).`"
   ]
  },
  {
   "cell_type": "markdown",
   "id": "546a9f15-6450-456d-9d47-3a6ea3168622",
   "metadata": {},
   "source": [
    "| D     | Name     | Class   | GPA       |      |\n",
    "| ----- | -------- | ------- | --------- | ---- |\n",
    "| 10015 | Smith,   | John    | Sophomore | 3.01 |\n",
    "| 10167 | Jones,   | Wendy   | Junior    | 2.85 |\n",
    "| 10175 | Smith,   | Jane    | Senior    | 3.92 |\n",
    "| 10188 | Wales,   | Sam     | Senior    | 3.25 |\n",
    "| 10200 | Roberts, | Sally   | Freshman  | 4    |\n",
    "| 10208 | Green,   | Patrick | Freshman  | 3.95 |\n",
    "| 10226 | Nelson,  | Amy     | Sophomore | 2.95 |\n",
    "| 10334 | Roberts, | Jane    | Senior    | 3.81 |\n",
    "| 10387 | Taylor,  | Susan   | Sophomore | 2.15 |\n",
    "| 10400 | Logan,   | Mark    | Junior    | 3.33 |\n",
    "| 10485 | Brown,   | Jessica | Sophomore | 2.91 |"
   ]
  },
  {
   "cell_type": "markdown",
   "id": "17c82298-2894-4604-add1-8cd93a6035e2",
   "metadata": {},
   "source": [
    "**Definition**\n",
    "- It has a finite number of student\n",
    "- The size cannot be changed\n",
    "- The data is indexed (by the ID information)\n",
    "- The data is sorted by the ID information\n",
    "- Each sample has 3 (4) elements\n",
    "  - (ID)\n",
    "  - name\n",
    "  - class\n",
    "  - GPA\n",
    "- The data value can't be changed"
   ]
  },
  {
   "cell_type": "markdown",
   "id": "7e8ce631-2428-42e7-b359-9001aa295d52",
   "metadata": {},
   "source": [
    "**Operations**\n",
    "1. Read a file\n",
    "   - open a connection to a file given a filename\n",
    "   - raise an error if the file does not exist\n",
    "2. Close a connection to a file\n",
    "   - close a connection\n",
    "   - raise an error if the connection is not open\n",
    "3. Extract one sample from a file\n",
    "   - given an open connection\n",
    "   - read one line of information\n",
    "   - store in an adapted data type (left to implementation)\n",
    "   - return this new data container\n",
    "4. Extract all data from a file\n",
    "   - repeat step 3. until there is no more line of information in the file\n",
    "   \n",
    "  \n",
    "- Display the data structure in a fashionable and readable way"
   ]
  },
  {
   "cell_type": "code",
   "execution_count": null,
   "id": "b78921e4-8896-4b38-b07f-10a39d1f517a",
   "metadata": {},
   "outputs": [],
   "source": []
  }
 ],
 "metadata": {
  "kernelspec": {
   "display_name": "Python 3 (ipykernel)",
   "language": "python",
   "name": "python3"
  },
  "language_info": {
   "codemirror_mode": {
    "name": "ipython",
    "version": 3
   },
   "file_extension": ".py",
   "mimetype": "text/x-python",
   "name": "python",
   "nbconvert_exporter": "python",
   "pygments_lexer": "ipython3",
   "version": "3.8.10"
  }
 },
 "nbformat": 4,
 "nbformat_minor": 5
}
