{
 "cells": [
  {
   "cell_type": "markdown",
   "id": "0af5e6b2-92bd-40b9-b471-b1c0d5a3bd26",
   "metadata": {},
   "source": [
    "Create an ADT defition for the Set type\n"
   ]
  },
  {
   "cell_type": "markdown",
   "id": "b874b6f5-876b-4d3a-8049-71c3d4437976",
   "metadata": {},
   "source": [
    "Answer:"
   ]
  },
  {
   "cell_type": "markdown",
   "id": "cc82e89a-8b5b-4d82-943b-9dcbbdc3e7e0",
   "metadata": {},
   "source": [
    "Create an ADT definition for a coffee machine"
   ]
  },
  {
   "cell_type": "markdown",
   "id": "4d454fa5-c322-494e-ab55-b3ce4c9de4f7",
   "metadata": {},
   "source": [
    "Answer:"
   ]
  }
 ],
 "metadata": {
  "kernelspec": {
   "display_name": "Python 3 (ipykernel)",
   "language": "python",
   "name": "python3"
  },
  "language_info": {
   "codemirror_mode": {
    "name": "ipython",
    "version": 3
   },
   "file_extension": ".py",
   "mimetype": "text/x-python",
   "name": "python",
   "nbconvert_exporter": "python",
   "pygments_lexer": "ipython3",
   "version": "3.8.10"
  }
 },
 "nbformat": 4,
 "nbformat_minor": 5
}
