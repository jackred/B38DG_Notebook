{
 "cells": [
  {
   "cell_type": "markdown",
   "id": "0af5e6b2-92bd-40b9-b471-b1c0d5a3bd26",
   "metadata": {},
   "source": [
    "Create an ADT defition for the Set type\n"
   ]
  },
  {
   "cell_type": "markdown",
   "id": "b874b6f5-876b-4d3a-8049-71c3d4437976",
   "metadata": {},
   "source": [
    "**Definition**\n",
    "- Store data (can be typed(1) or not)\n",
    "- The data does not need to be indexed\n",
    "- The data does not need to be ordered\n",
    "- The size can be increased/decreased\n",
    "- Each value stored is unique. There is no duplicate\n",
    "\n",
    "\n",
    "(1): typed mean that it only accept one (or more) specific type(s) while non typed means it accept any type of data. We define strongly and weakly typed usually. "
   ]
  },
  {
   "cell_type": "markdown",
   "id": "1d03dd1e-abb0-4e93-883f-378cb74be298",
   "metadata": {},
   "source": [
    "**Operations**\n",
    "- add(e): add the element e to the Set\n",
    "- remove(e): remove the element e from the Set\n",
    "- contains(e): return whether or not the element e is in the Set\n",
    "- size(): return the count of the element inside the Set\n",
    "\n",
    "**Optional operations**\n",
    "- intersection(s1): return the intersection of the Set with the given set s1. The intersection is a set containing the common element of the Set and s1\n",
    "- union(s1): return the union of the Set with the given set s1 The union is a set containing the element of the Set and s1\n",
    "- difference(s1): return the different of the Set with the given set s1. The difference is a set containing the element within the Set but not s1\n",
    "- subset(s1): return whether s1 is a subset of the Set"
   ]
  },
  {
   "cell_type": "markdown",
   "id": "b433033f-6cd9-44fa-9483-8cc48875e33d",
   "metadata": {},
   "source": [
    "---------"
   ]
  },
  {
   "cell_type": "markdown",
   "id": "cc82e89a-8b5b-4d82-943b-9dcbbdc3e7e0",
   "metadata": {},
   "source": [
    "Create an ADT definition for a coffee machine"
   ]
  },
  {
   "cell_type": "markdown",
   "id": "4d454fa5-c322-494e-ab55-b3ce4c9de4f7",
   "metadata": {},
   "source": [
    "**Definition**\n",
    "- Can store coffee\n",
    "  - The coffee container has a limited capacity\n",
    "  - The coffee should be stored as beans\n",
    "- Can store water\n",
    "  - The water container has a limited capacity\n",
    "- Works on electricity\n"
   ]
  },
  {
   "cell_type": "markdown",
   "id": "26ecfd07-1065-4c96-a8e9-1a60196a35dc",
   "metadata": {},
   "source": [
    "**Operations**"
   ]
  },
  {
   "cell_type": "markdown",
   "id": "53cd6052-4e78-47d6-9403-3379f715eecd",
   "metadata": {},
   "source": [
    "- boil_water(): boil the water in the water container\n",
    "- grind_beans(): grind the beans of coffee stored in the coffee container\n",
    "- brew_coffee(): boil water, grind coffee beans, and mix them.\n",
    "- serve coffee(n): serve n amount of cup of coffee. n default value should be 1. "
   ]
  }
 ],
 "metadata": {
  "kernelspec": {
   "display_name": "Python 3 (ipykernel)",
   "language": "python",
   "name": "python3"
  },
  "language_info": {
   "codemirror_mode": {
    "name": "ipython",
    "version": 3
   },
   "file_extension": ".py",
   "mimetype": "text/x-python",
   "name": "python",
   "nbconvert_exporter": "python",
   "pygments_lexer": "ipython3",
   "version": "3.8.10"
  }
 },
 "nbformat": 4,
 "nbformat_minor": 5
}
