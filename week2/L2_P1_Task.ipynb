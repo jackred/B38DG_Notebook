{
 "cells": [
  {
   "cell_type": "markdown",
   "id": "c5eff5fe-1536-44d9-b9a4-8d3200b0a5ba",
   "metadata": {},
   "source": [
    "**Take input from the employee for their name, age and salary.**"
   ]
  },
  {
   "cell_type": "code",
   "execution_count": 5,
   "id": "0b4df8f0-3380-49f0-a6db-09c480e06e64",
   "metadata": {},
   "outputs": [],
   "source": [
    "class Employee():\n",
    "    def __init__(self, name, age, salary):\n",
    "        self.age = age\n",
    "        self.salary = salary\n",
    "        self.name = name\n",
    "        \n",
    "    def display(self):\n",
    "        print('age', self.age)\n",
    "        print('salary', self.salary)\n",
    "        print('name', self.name)\n",
    "        \n",
    "    def print_office(self, registery):\n",
    "        pass"
   ]
  },
  {
   "cell_type": "code",
   "execution_count": 6,
   "id": "b91d97b6-4f48-4401-82df-0bc0bc271cc9",
   "metadata": {},
   "outputs": [
    {
     "name": "stdout",
     "output_type": "stream",
     "text": [
      "age 25\n",
      "salary 65220\n",
      "name John\n"
     ]
    }
   ],
   "source": [
    "john = Employee('John', 25, 65220)\n",
    "john.display()"
   ]
  },
  {
   "cell_type": "code",
   "execution_count": 8,
   "id": "4dd39f8e-618d-4481-bb0e-80fdb699ad0e",
   "metadata": {},
   "outputs": [
    {
     "name": "stdout",
     "output_type": "stream",
     "text": [
      "{'age': 25, 'name': 'John', 'salary': 65220}\n",
      "{'age': 25, 'name': 'john', 'salary': 65220}\n"
     ]
    }
   ],
   "source": [
    "employee = {'age': 25, 'name': 'John', 'salary': 65220}\n",
    "print(employee)\n",
    "\n",
    "def employee_maker(name, salary, age):\n",
    "    return {'age': age, 'name': name, 'salary': salary}\n",
    "\n",
    "john = employee_maker('john', 65220, 25)\n",
    "print(john)"
   ]
  },
  {
   "cell_type": "code",
   "execution_count": 10,
   "id": "f259e646-fa42-4f5b-a984-cfb47b210827",
   "metadata": {},
   "outputs": [
    {
     "name": "stdout",
     "output_type": "stream",
     "text": [
      "[('name', 'john'), ('age', 25), ('salary', 65220)]\n",
      "name : john\n",
      "age : 25\n",
      "salary : 65220\n"
     ]
    }
   ],
   "source": [
    "john = [('name', 'john'), ('age', 25), ('salary', 65220)]\n",
    "print(john)\n",
    "for i in john:\n",
    "    print(i[0], ':', i[1])"
   ]
  }
 ],
 "metadata": {
  "kernelspec": {
   "display_name": "Python 3 (ipykernel)",
   "language": "python",
   "name": "python3"
  },
  "language_info": {
   "codemirror_mode": {
    "name": "ipython",
    "version": 3
   },
   "file_extension": ".py",
   "mimetype": "text/x-python",
   "name": "python",
   "nbconvert_exporter": "python",
   "pygments_lexer": "ipython3",
   "version": "3.8.12"
  }
 },
 "nbformat": 4,
 "nbformat_minor": 5
}
