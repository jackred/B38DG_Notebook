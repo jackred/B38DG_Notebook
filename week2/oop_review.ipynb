{
 "cells": [
  {
   "cell_type": "code",
   "execution_count": 3,
   "id": "a23bc466-ef4e-401c-a899-57a8d6c20345",
   "metadata": {},
   "outputs": [
    {
     "name": "stdout",
     "output_type": "stream",
     "text": [
      "George IV\n",
      "Victoria Albert\n",
      "----------------\n",
      "Abraham Lincoln\n",
      "Harry Potter\n"
     ]
    }
   ],
   "source": [
    "#Encapsulation\n",
    "#creating a class employee\n",
    "class Employee:\n",
    "    def __init__(self):\n",
    "        self.a='George IV'\n",
    "        self.__b='Victoria Albert'\n",
    "    \n",
    "    def PrintEmployeeName(self):\n",
    "        print(self.a) #public variable\n",
    "        print(self.__b) #private variable\n",
    "        self.__b=\"Harry Potter\" #only changed within the class\n",
    "emp=Employee() #creating object for the class\n",
    "emp.PrintEmployeeName()#calling the method to print the employee names\n",
    "emp.__b='Jeff Bezos'#changing the value of the employee b\n",
    "emp.a='Abraham Lincoln'#changing the value of the employee a\n",
    "print('----------------')\n",
    "emp.PrintEmployeeName()   #the name of the employee stored in the public variable will be changed while that in the private variable will not be changed    \n"
   ]
  },
  {
   "cell_type": "code",
   "execution_count": 14,
   "id": "f0a55e21-60e0-4d06-b95e-b2f95c27ed91",
   "metadata": {},
   "outputs": [
    {
     "name": "stdout",
     "output_type": "stream",
     "text": [
      "I have 3 sides\n",
      "I have 4 sides\n",
      "red blue\n"
     ]
    }
   ],
   "source": [
    "#Abstraction\n",
    "#python does not provide abstract classes by default. The module Abstract Base classes(ABC) can be used for defining abstract base classes. \n",
    "#a method become abstract when you add @abstractmethod\n",
    "from abc import ABC, abstractmethod \n",
    "class shapes(ABC): \n",
    "    def color(self):\n",
    "        return 'blue'\n",
    "    \n",
    "    @abstractmethod \n",
    "    def noofsides(self): \n",
    "        pass\n",
    "\n",
    "class Triangle(shapes): \n",
    "    # overriding abstract method \n",
    "    def noofsides(self): \n",
    "        print(\"I have 3 sides\") \n",
    "        \n",
    "    def color(self):\n",
    "        return 'red'\n",
    "\n",
    "class Rectangle(shapes): \n",
    "    # overriding abstract method \n",
    "    def noofsides(self): \n",
    "        print(\"I have 4 sides\") \n",
    "        \n",
    "tri = Triangle() \n",
    "tri.noofsides() \n",
    "rect = Rectangle() \n",
    "rect.noofsides() \n",
    "\n",
    "print(tri.color(), rect.color())\n",
    "\n",
    "# s=shapes() #cant be instantiated as it is not a concrete class with implementation\n"
   ]
  },
  {
   "cell_type": "code",
   "execution_count": 20,
   "id": "b416386b-f7d6-4b86-ae95-88f3f1885ef4",
   "metadata": {},
   "outputs": [
    {
     "name": "stdout",
     "output_type": "stream",
     "text": [
      "Jeremy Fisher\n",
      "Beatrice Potter\n",
      "Jeremy Fisher\n",
      "Beatrice Potter\n",
      "Jeremy Fisher\n",
      "<class '__main__.Parent'> <class '__main__.child'>\n"
     ]
    }
   ],
   "source": [
    "#inheritance\n",
    "class Parent:\n",
    "  def __init__(self, fname, lname):\n",
    "    self.firstname = fname\n",
    "    self.lastname = lname\n",
    "  def printname(self):\n",
    "    print(self.firstname, self.lastname)\n",
    "\n",
    "#create an object for the Parent class\n",
    "p = Parent(\"Jeremy\", \"Fisher\")\n",
    "p.printname()\n",
    "#create inherited class child to print name of child\n",
    "class child(Parent):\n",
    "    def __init__(self, fname, lname, parent):\n",
    "        super().__init__(fname, lname)\n",
    "        self.parent = parent\n",
    "    \n",
    "    def print_parent(self):\n",
    "        p.printname()\n",
    "ch = child(\"Beatrice\", \"Potter\", p)\n",
    "ch.printname()\n",
    "ch.print_parent()\n",
    "\n",
    "def print_name(someone):\n",
    "    someone.printname()\n",
    "    \n",
    "print_name(ch)\n",
    "print_name(p)\n",
    "\n",
    "print(type(p), type(ch))"
   ]
  },
  {
   "cell_type": "code",
   "execution_count": 25,
   "id": "cc67bceb-e921-4a3b-8561-02cd1afd957e",
   "metadata": {},
   "outputs": [
    {
     "name": "stdout",
     "output_type": "stream",
     "text": [
      "12\n",
      "3\n",
      "2\n",
      "3\n"
     ]
    },
    {
     "data": {
      "text/plain": [
       "-1"
      ]
     },
     "execution_count": 25,
     "metadata": {},
     "output_type": "execute_result"
    }
   ],
   "source": [
    "#polymorphism\n",
    "#demonstrating a built-in polymorphic function\n",
    "#len() used for a string\n",
    "print(len(\"data science\"))\n",
    "#len() used for a list\n",
    "print(len([10, 20, 30]))\n",
    "\n",
    "lst = [1,2]\n",
    "print(lst.__len__())\n",
    "print(\"kkt\".__len__())\n",
    "\n",
    "def len(element):\n",
    "    return element.__len__()\n",
    "\n",
    "set1 = {1, 2}\n",
    "set2 = {1, 3}\n",
    "set1 - set2\n",
    "2 - 3"
   ]
  }
 ],
 "metadata": {
  "kernelspec": {
   "display_name": "Python 3 (ipykernel)",
   "language": "python",
   "name": "python3"
  },
  "language_info": {
   "codemirror_mode": {
    "name": "ipython",
    "version": 3
   },
   "file_extension": ".py",
   "mimetype": "text/x-python",
   "name": "python",
   "nbconvert_exporter": "python",
   "pygments_lexer": "ipython3",
   "version": "3.8.12"
  }
 },
 "nbformat": 4,
 "nbformat_minor": 5
}
