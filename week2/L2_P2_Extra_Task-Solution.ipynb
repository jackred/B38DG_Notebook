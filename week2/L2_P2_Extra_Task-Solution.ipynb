{
 "cells": [
  {
   "cell_type": "markdown",
   "id": "0d62d6ae-943c-4e25-9d1a-cba03256361b",
   "metadata": {},
   "source": [
    "**Find the second largest element in a list**"
   ]
  },
  {
   "cell_type": "code",
   "execution_count": 14,
   "id": "15efd65a-f5d9-42f3-9161-2e2ede47434d",
   "metadata": {},
   "outputs": [],
   "source": [
    "def find_second_largest(lst):\n",
    "    large = max(lst[0], lst[1])\n",
    "    large2 = min(lst[0], lst[1])\n",
    "    for i in range(2, len(lst)):\n",
    "        if lst[i] > large:  # if the new element is larger than the previous one\n",
    "            large2 = large  # make the previous larger second larger\n",
    "            large = lst[i]  # make the new element the larger\n",
    "        elif lst[i] > large2 and lst[i] != large:  # if instead the new element is bigger than the second larger, and different than the larger\n",
    "            large2 = lst[i]  # make the new element the second larger\n",
    "    return large2\n",
    "\n",
    "# the != condition in the elif is to avoid having duplicate of the largest value being counted as largest twice"
   ]
  },
  {
   "cell_type": "code",
   "execution_count": 12,
   "id": "8d1bfbc1-f205-46a6-8044-db01b63154df",
   "metadata": {},
   "outputs": [],
   "source": [
    "lst1 = [1, 3, 5, 2, 9, 4, 13]  # 9\n",
    "lst2 = [2, 14, 5, 6, 1, 7, 12, 14]  # 12\n",
    "lst3 = [1, 1, 1, 1, 1, 2, 2, 2, 1, 1]  # 1"
   ]
  },
  {
   "cell_type": "code",
   "execution_count": 13,
   "id": "959214a3-ed98-442a-ba58-0f33f274cb50",
   "metadata": {},
   "outputs": [
    {
     "name": "stdout",
     "output_type": "stream",
     "text": [
      "Largest in lst1 (9) is: 9\n",
      "Largest in lst2 (12) is: 12\n",
      "Largest in lst3 (1) is: 1\n"
     ]
    }
   ],
   "source": [
    "print('Largest in lst1 (9) is:', find_second_largest(lst1))\n",
    "print('Largest in lst2 (12) is:', find_second_largest(lst2))\n",
    "print('Largest in lst3 (1) is:', find_second_largest(lst3))"
   ]
  },
  {
   "cell_type": "markdown",
   "id": "f9eb2840-02a8-4cd1-acac-169b8a534d38",
   "metadata": {},
   "source": [
    "**Find the value with the most occurence in a list**"
   ]
  },
  {
   "cell_type": "code",
   "execution_count": 65,
   "id": "b1401cf4-6f9a-4bbd-aabe-4cededabb0de",
   "metadata": {},
   "outputs": [],
   "source": [
    "def find_most_occurence(lst):\n",
    "    count = 0  # use a counter\n",
    "    value = -1  # the current value with highest occurence\n",
    "    for i in range(len(lst)):  # for each value on the list\n",
    "        tmp_count = 1  # initialise a temporary counter\n",
    "        for j in range(i+1, len(lst)):  # count in the rest of the list how much time the value appear\n",
    "            if lst[i] == lst[j]:  # if the value appears, increast the temporaty counter\n",
    "                tmp_count += 1\n",
    "        if tmp_count > count:  # replace the highest occurence value if the temporary counter is bigger than the previous counter\n",
    "            count = tmp_count\n",
    "            value = lst[i]\n",
    "    return value"
   ]
  },
  {
   "cell_type": "code",
   "execution_count": 63,
   "id": "85be7dc6-4bd4-408d-b264-ee88e14be7c2",
   "metadata": {},
   "outputs": [],
   "source": [
    "lst1 = [1, 3, 1, 2, 2, 9, 12, 9, 4, 15, 9]  # 9\n",
    "lst2 = [2, 14, 5, 6, 1, 7, 12, 14]  # 14\n",
    "lst3 = [1, 1, 1, 1, 1, 2, 2, 2, 1, 1]  # 1"
   ]
  },
  {
   "cell_type": "code",
   "execution_count": 64,
   "id": "3ee9f16b-11a5-4d79-90f4-eed10b3ff851",
   "metadata": {},
   "outputs": [
    {
     "name": "stdout",
     "output_type": "stream",
     "text": [
      "Most occurence in lst1 (9) is: 9\n",
      "Most occurence in lst2 (14) is: 14\n",
      "Most occurence in lst3 (1) is: 1\n"
     ]
    }
   ],
   "source": [
    "print('Most occurence in lst1 (9) is:', find_most_occurence(lst1))\n",
    "print('Most occurence in lst2 (14) is:', find_most_occurence(lst2))\n",
    "print('Most occurence in lst3 (1) is:', find_most_occurence(lst3))"
   ]
  },
  {
   "cell_type": "code",
   "execution_count": 51,
   "id": "d8bafd5a-8b7b-4049-b1a3-c9db31254506",
   "metadata": {},
   "outputs": [],
   "source": [
    "# a bit more complex solution\n",
    "def take_value(x):\n",
    "    return x[1]\n",
    "\n",
    "def find_most_occurence_bis(lst):\n",
    "    res = {}  # create a dictionnary\n",
    "    for i in lst:  \n",
    "        if i not in res:  # if the number is not a key in the dictionnary, add it with a value 0\n",
    "            res[i] = 0\n",
    "        res[i] += 1  # add +1 to the value associated with the number, effectively counting how much time it appears\n",
    "    return max(res.items(), key=take_value)[0]  # returning the highest occurence\n",
    "\n",
    "# to break down the last line:\n",
    "# res.items() return a list of tuple like (key, va}lue)\n",
    "# the max function return the max of a list\n",
    "# and the key argument, is the way how to \"use\" the element\n",
    "# here we create a function take_value, which return the second element (x[1]) of the tuple\n",
    "# so the max function will compare the value of each element and pick the highest, so the highest occurence\n",
    "# it returns the highest value tuple, so the best (key, value)\n",
    "# and we return the first element (x[0]) of this tuple, aka the key"
   ]
  },
  {
   "cell_type": "code",
   "execution_count": 52,
   "id": "8018cf43-9fc6-4dcb-a24f-e5911ecc21a9",
   "metadata": {},
   "outputs": [
    {
     "name": "stdout",
     "output_type": "stream",
     "text": [
      "Most occurence in lst1 (9) is: 9\n",
      "Most occurence in lst2 (14) is: 14\n",
      "Most occurence in lst3 (1) is: 1\n"
     ]
    }
   ],
   "source": [
    "print('Most occurence in lst1 (9) is:', find_most_occurence_bis(lst1))\n",
    "print('Most occurence in lst2 (14) is:', find_most_occurence_bis(lst2))\n",
    "print('Most occurence in lst3 (1) is:', find_most_occurence_bis(lst3))"
   ]
  },
  {
   "cell_type": "code",
   "execution_count": 59,
   "id": "3b19ce33-84bf-421c-b746-4669f64add07",
   "metadata": {},
   "outputs": [
    {
     "name": "stdout",
     "output_type": "stream",
     "text": [
      "Most occurence in lst1 (9) is: 9\n",
      "Most occurence in lst2 (14) is: 14\n",
      "Most occurence in lst3 (1) is: 1\n"
     ]
    }
   ],
   "source": [
    "# obviously we can use python built-in function to make it easier, but we don't learn much from it\n",
    "print('Most occurence in lst1 (9) is:', max(lst1, key=lst1.count))\n",
    "print('Most occurence in lst2 (14) is:', max(lst2, key=lst2.count))\n",
    "print('Most occurence in lst3 (1) is:', max(lst3, key=lst3.count))"
   ]
  }
 ],
 "metadata": {
  "kernelspec": {
   "display_name": "Python 3 (ipykernel)",
   "language": "python",
   "name": "python3"
  },
  "language_info": {
   "codemirror_mode": {
    "name": "ipython",
    "version": 3
   },
   "file_extension": ".py",
   "mimetype": "text/x-python",
   "name": "python",
   "nbconvert_exporter": "python",
   "pygments_lexer": "ipython3",
   "version": "3.8.12"
  }
 },
 "nbformat": 4,
 "nbformat_minor": 5
}
