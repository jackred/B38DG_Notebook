{
 "cells": [
  {
   "cell_type": "markdown",
   "id": "6395d676-01b8-4ecc-a064-6f6374468320",
   "metadata": {},
   "source": [
    "**Ordered linear search**"
   ]
  },
  {
   "cell_type": "code",
   "execution_count": 1,
   "id": "ccb68a1c-21af-4275-a352-fe873a6e94a7",
   "metadata": {},
   "outputs": [],
   "source": [
    "or_lst = [1, 2 , 4, 5, 6]\n",
    "un_lst = [42, 55, 1, 24, 7, 58]\n",
    "\n",
    "[(0, 1), (1, 2), (2, 4), (3, 5), (4, 6)]"
   ]
  },
  {
   "cell_type": "code",
   "execution_count": 2,
   "id": "816d3088-89a6-4ff4-b054-ca3fdcb2217c",
   "metadata": {},
   "outputs": [],
   "source": [
    "# input is sorted list!!!!!\n",
    "def linear_search(lst, element):\n",
    "    for index, el in enumerate(lst):\n",
    "        if el == element:\n",
    "            break\n",
    "    return index"
   ]
  },
  {
   "cell_type": "code",
   "execution_count": 3,
   "id": "55ac59ad-9f98-4be5-8476-6a1312483965",
   "metadata": {},
   "outputs": [
    {
     "data": {
      "text/plain": [
       "2"
      ]
     },
     "execution_count": 3,
     "metadata": {},
     "output_type": "execute_result"
    }
   ],
   "source": [
    "linear_search(or_lst, 4)"
   ]
  },
  {
   "cell_type": "code",
   "execution_count": 4,
   "id": "8fecd446-ce4b-4de5-b28c-590e6eefed4a",
   "metadata": {},
   "outputs": [
    {
     "data": {
      "text/plain": [
       "4"
      ]
     },
     "execution_count": 4,
     "metadata": {},
     "output_type": "execute_result"
    }
   ],
   "source": [
    "linear_search(un_lst, 7)"
   ]
  },
  {
   "cell_type": "markdown",
   "id": "2a586ee5-073c-4474-8b9d-a0f62cc05b3d",
   "metadata": {},
   "source": [
    "**Finding the smallest value in an unordered list of numbers.**"
   ]
  },
  {
   "cell_type": "code",
   "execution_count": 5,
   "id": "b7425deb-8748-4b89-be24-6ad067179807",
   "metadata": {},
   "outputs": [],
   "source": [
    "un_lst = [42, 55, 1, 24, 7, 58]"
   ]
  },
  {
   "cell_type": "code",
   "execution_count": 10,
   "id": "314c715b-74dc-426a-a9ee-b6c2e464a560",
   "metadata": {},
   "outputs": [],
   "source": [
    "def find_smallest_element(lst):\n",
    "    tmp = min(lst[0], lst[1])\n",
    "    for i in range(2, len(lst)):\n",
    "        if tmp > lst[i]:\n",
    "            tmp = lst[i]\n",
    "    return tmp"
   ]
  },
  {
   "cell_type": "code",
   "execution_count": 11,
   "id": "a1b20b32-4300-4173-95be-b48481c0e491",
   "metadata": {},
   "outputs": [
    {
     "data": {
      "text/plain": [
       "1"
      ]
     },
     "execution_count": 11,
     "metadata": {},
     "output_type": "execute_result"
    }
   ],
   "source": [
    "find_smallest_element(un_lst)"
   ]
  },
  {
   "cell_type": "code",
   "execution_count": 13,
   "id": "9b22aac4-b092-4531-860e-d307628cddca",
   "metadata": {},
   "outputs": [],
   "source": [
    "def find_smallest_element(lst):\n",
    "    tmp = float('inf')\n",
    "    for i in range(0, len(lst)):\n",
    "        if tmp > lst[i]:\n",
    "            tmp = lst[i]\n",
    "    return tmp"
   ]
  },
  {
   "cell_type": "code",
   "execution_count": 14,
   "id": "5dc2971c-8d71-4c2d-93eb-2dbdd2cfc919",
   "metadata": {},
   "outputs": [
    {
     "data": {
      "text/plain": [
       "1"
      ]
     },
     "execution_count": 14,
     "metadata": {},
     "output_type": "execute_result"
    }
   ],
   "source": [
    "find_smallest_element(un_lst)"
   ]
  },
  {
   "cell_type": "code",
   "execution_count": 43,
   "id": "154d1c08-4e0b-40e3-96b6-ab0531a6d82b",
   "metadata": {},
   "outputs": [],
   "source": [
    "def find_smallest_two(lst):\n",
    "    smallest = lst[0]\n",
    "    for i in lst:\n",
    "        if smallest > i:\n",
    "            smallest = i\n",
    "    return smallest"
   ]
  },
  {
   "cell_type": "code",
   "execution_count": 44,
   "id": "1f54a0eb-522a-420f-a784-a59af2ecb1d9",
   "metadata": {},
   "outputs": [
    {
     "data": {
      "text/plain": [
       "1"
      ]
     },
     "execution_count": 44,
     "metadata": {},
     "output_type": "execute_result"
    }
   ],
   "source": [
    "find_smallest_two(un_lst)"
   ]
  },
  {
   "cell_type": "code",
   "execution_count": 48,
   "id": "ebb6bcd1-1307-4c5e-9dfe-6ebe0553a890",
   "metadata": {},
   "outputs": [
    {
     "data": {
      "text/plain": [
       "1"
      ]
     },
     "execution_count": 48,
     "metadata": {},
     "output_type": "execute_result"
    }
   ],
   "source": [
    "min(un_lst)"
   ]
  },
  {
   "cell_type": "markdown",
   "id": "4013a754-5bf5-4780-8bb4-c153973cd1c0",
   "metadata": {},
   "source": [
    "**Finding duplicate value in a list**"
   ]
  },
  {
   "cell_type": "code",
   "execution_count": 18,
   "id": "ad141b22-8b00-4e41-b634-81708b66ed5d",
   "metadata": {},
   "outputs": [],
   "source": [
    "or_lst = [1, 2 , 4, 5, 6]\n",
    "un_lst = [42, 55, 1, 24, 7, 55, 7, 44]"
   ]
  },
  {
   "cell_type": "code",
   "execution_count": 20,
   "id": "109c2336-abed-4669-9de9-60cd559732a0",
   "metadata": {},
   "outputs": [],
   "source": [
    "def find_duplicate(lst):\n",
    "    lst_duplicate = []\n",
    "    for i in range(len(lst)):\n",
    "        for j in range(i+1, len(lst)):\n",
    "            if lst[i] == lst[j]:\n",
    "                lst_duplicate.append(lst[i])\n",
    "    return lst_duplicate"
   ]
  },
  {
   "cell_type": "markdown",
   "id": "c3c32540-9408-4ba4-9b32-bd2fae572e6b",
   "metadata": {},
   "source": [
    "i:0\n",
    "j:1, j:2, j:3, j:4\n",
    "\n",
    "i:1\n",
    "j:2, j:3, j:4\n",
    "\n",
    "i:2\n",
    "j:3, j:4\n",
    "\n",
    "i:3\n",
    "j:4"
   ]
  },
  {
   "cell_type": "code",
   "execution_count": 21,
   "id": "14785092-33ce-48cd-9778-1a8b8ab81499",
   "metadata": {},
   "outputs": [
    {
     "data": {
      "text/plain": [
       "[55, 7]"
      ]
     },
     "execution_count": 21,
     "metadata": {},
     "output_type": "execute_result"
    }
   ],
   "source": [
    "find_duplicate(un_lst)"
   ]
  },
  {
   "cell_type": "code",
   "execution_count": 36,
   "id": "fe9ef938-4e9e-4701-8074-1bcc758d7a78",
   "metadata": {},
   "outputs": [],
   "source": [
    "def find_duplicate_set(lst):\n",
    "    lst_duplicate = []\n",
    "    set_el = set()\n",
    "    for i in lst:\n",
    "        print(i, set_el, end=' > ')\n",
    "        if i not in set_el:\n",
    "            set_el.add(i)\n",
    "        else:\n",
    "            lst_duplicate.append(i)\n",
    "        print(set_el, lst_duplicate)\n",
    "    return lst_duplicate"
   ]
  },
  {
   "cell_type": "code",
   "execution_count": 37,
   "id": "753027b6-c8a4-4a62-86f6-12c011c54421",
   "metadata": {},
   "outputs": [
    {
     "name": "stdout",
     "output_type": "stream",
     "text": [
      "42 set() > {42} []\n",
      "55 {42} > {42, 55} []\n",
      "1 {42, 55} > {1, 42, 55} []\n",
      "24 {1, 42, 55} > {24, 1, 42, 55} []\n",
      "7 {24, 1, 42, 55} > {1, 7, 42, 55, 24} []\n",
      "55 {1, 7, 42, 55, 24} > {1, 7, 42, 55, 24} [55]\n",
      "7 {1, 7, 42, 55, 24} > {1, 7, 42, 55, 24} [55, 7]\n",
      "44 {1, 7, 42, 55, 24} > {1, 7, 42, 44, 55, 24} [55, 7]\n"
     ]
    },
    {
     "data": {
      "text/plain": [
       "[55, 7]"
      ]
     },
     "execution_count": 37,
     "metadata": {},
     "output_type": "execute_result"
    }
   ],
   "source": [
    "find_duplicate_set(un_lst)"
   ]
  }
 ],
 "metadata": {
  "kernelspec": {
   "display_name": "Python 3 (ipykernel)",
   "language": "python",
   "name": "python3"
  },
  "language_info": {
   "codemirror_mode": {
    "name": "ipython",
    "version": 3
   },
   "file_extension": ".py",
   "mimetype": "text/x-python",
   "name": "python",
   "nbconvert_exporter": "python",
   "pygments_lexer": "ipython3",
   "version": "3.8.12"
  }
 },
 "nbformat": 4,
 "nbformat_minor": 5
}
