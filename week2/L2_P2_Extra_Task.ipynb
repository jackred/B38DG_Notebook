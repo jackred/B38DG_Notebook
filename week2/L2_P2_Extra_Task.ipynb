{
 "cells": [
  {
   "cell_type": "markdown",
   "id": "0d62d6ae-943c-4e25-9d1a-cba03256361b",
   "metadata": {},
   "source": [
    "**Find the second largest element in a list**"
   ]
  },
  {
   "cell_type": "code",
   "execution_count": 10,
   "id": "15efd65a-f5d9-42f3-9161-2e2ede47434d",
   "metadata": {},
   "outputs": [],
   "source": [
    "def find_second_largest(lst):\n",
    "    pass"
   ]
  },
  {
   "cell_type": "code",
   "execution_count": 4,
   "id": "8d1bfbc1-f205-46a6-8044-db01b63154df",
   "metadata": {},
   "outputs": [],
   "source": [
    "lst1 = [1, 3, 5, 2, 9, 4, 13]  # 9\n",
    "lst2 = [2, 14, 5, 6, 1, 7, 12, 14]  # 12\n",
    "lst3 = [1, 1, 1, 1, 1, 2, 2, 2, 1, 1]  # 1"
   ]
  },
  {
   "cell_type": "code",
   "execution_count": 7,
   "id": "959214a3-ed98-442a-ba58-0f33f274cb50",
   "metadata": {},
   "outputs": [
    {
     "name": "stdout",
     "output_type": "stream",
     "text": [
      "Largest in lst1 (9) is: None\n",
      "Largest in lst2 (12) is: None\n",
      "Largest in lst3 (1) is: None\n"
     ]
    }
   ],
   "source": [
    "print('Largest in lst1 (9) is:', find_second_largest(lst1))\n",
    "print('Largest in lst2 (12) is:', find_second_largest(lst2))\n",
    "print('Largest in lst3 (1) is:', find_second_largest(lst3))"
   ]
  },
  {
   "cell_type": "markdown",
   "id": "f9eb2840-02a8-4cd1-acac-169b8a534d38",
   "metadata": {},
   "source": [
    "**Find the value with the most occurence in a list**"
   ]
  },
  {
   "cell_type": "code",
   "execution_count": 9,
   "id": "b1401cf4-6f9a-4bbd-aabe-4cededabb0de",
   "metadata": {},
   "outputs": [],
   "source": [
    "def find_most_occurence(lst):\n",
    "    pass"
   ]
  },
  {
   "cell_type": "code",
   "execution_count": 11,
   "id": "85be7dc6-4bd4-408d-b264-ee88e14be7c2",
   "metadata": {},
   "outputs": [],
   "source": [
    "lst1 = [1, 3, 1, 2, 2, 9, 12, 9, 4, 15, 9]  # 9\n",
    "lst2 = [2, 14, 5, 6, 1, 7, 12, 14]  # 14\n",
    "lst3 = [1, 1, 1, 1, 1, 2, 2, 2, 1, 1]  # 1"
   ]
  },
  {
   "cell_type": "code",
   "execution_count": 12,
   "id": "3ee9f16b-11a5-4d79-90f4-eed10b3ff851",
   "metadata": {},
   "outputs": [
    {
     "name": "stdout",
     "output_type": "stream",
     "text": [
      "Most occurence in lst1 (9) is: None\n",
      "Most occurence in lst2 (14) is: None\n",
      "Most occurence in lst3 (1) is: None\n"
     ]
    }
   ],
   "source": [
    "print('Most occurence in lst1 (9) is:', find_most_occurence(lst1))\n",
    "print('Most occurence in lst2 (14) is:', find_most_occurence(lst2))\n",
    "print('Most occurence in lst3 (1) is:', find_most_occurence(lst3))"
   ]
  }
 ],
 "metadata": {
  "kernelspec": {
   "display_name": "Python 3 (ipykernel)",
   "language": "python",
   "name": "python3"
  },
  "language_info": {
   "codemirror_mode": {
    "name": "ipython",
    "version": 3
   },
   "file_extension": ".py",
   "mimetype": "text/x-python",
   "name": "python",
   "nbconvert_exporter": "python",
   "pygments_lexer": "ipython3",
   "version": "3.8.12"
  }
 },
 "nbformat": 4,
 "nbformat_minor": 5
}
