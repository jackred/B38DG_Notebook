{
 "cells": [
  {
   "cell_type": "code",
   "execution_count": 3,
   "metadata": {},
   "outputs": [
    {
     "name": "stdout",
     "output_type": "stream",
     "text": [
      "Index position of value 5 is:  2\n"
     ]
    }
   ],
   "source": [
    "def binary_search(ordered_list, term):\n",
    "    size_of_list = len(ordered_list) - 1\n",
    "    index_of_first_element = 0\n",
    "    index_of_last_element = size_of_list\n",
    "    while index_of_first_element <= index_of_last_element:#iteratively adjust the limits of the list\n",
    "        mid_point = (index_of_first_element + index_of_last_element)//2 #finding the mid point\n",
    "        if ordered_list[mid_point] == term:\n",
    "            return mid_point\n",
    "        if term > ordered_list[mid_point]:\n",
    "            index_of_first_element = mid_point + 1\n",
    "        else:\n",
    "            index_of_last_element = mid_point - 1\n",
    "\n",
    "\n",
    "store = [2, 4, 5, 12, 43, 54, 60, 77]\n",
    "srch_item=5\n",
    "a = binary_search(store, srch_item)\n",
    "print(\"Index position of value\", srch_item, \"is: \",a)"
   ]
  },
  {
   "cell_type": "code",
   "execution_count": null,
   "metadata": {},
   "outputs": [],
   "source": []
  }
 ],
 "metadata": {
  "kernelspec": {
   "display_name": "Python 3",
   "language": "python",
   "name": "python3"
  },
  "language_info": {
   "codemirror_mode": {
    "name": "ipython",
    "version": 3
   },
   "file_extension": ".py",
   "mimetype": "text/x-python",
   "name": "python",
   "nbconvert_exporter": "python",
   "pygments_lexer": "ipython3",
   "version": "3.8.3"
  }
 },
 "nbformat": 4,
 "nbformat_minor": 4
}
