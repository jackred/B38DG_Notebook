{
 "cells": [
  {
   "cell_type": "markdown",
   "id": "d7b9da35-6fe6-4348-a950-4fd0c026ca72",
   "metadata": {},
   "source": [
    "1. Write code for Bubble Sort."
   ]
  },
  {
   "cell_type": "code",
   "execution_count": 1,
   "id": "0ce52395-77d7-4265-ab93-463765c962a1",
   "metadata": {},
   "outputs": [],
   "source": [
    "lst1 = [0, 2, 1, 42, 5, 7, 15, 12, 99]\n",
    "lst2 = [99, 88, 77, 66, 55, 44, 33, 22, 11, 0]"
   ]
  },
  {
   "cell_type": "code",
   "execution_count": 2,
   "id": "ba073831-e7fa-46d6-afa5-8693ddada22e",
   "metadata": {},
   "outputs": [],
   "source": [
    "def bubble_sort(lst):\n",
    "    for _ in range(len(lst)):\n",
    "        for i in range(len(lst)-1):\n",
    "            if lst[i] > lst[i+1]:\n",
    "                tmp = lst[i]\n",
    "                lst[i] = lst[i+1]\n",
    "                lst[i+1] = tmp\n",
    "    return lst"
   ]
  },
  {
   "cell_type": "code",
   "execution_count": 3,
   "id": "22fd3e5e-2402-44c0-8b65-ee663fd8a5b9",
   "metadata": {},
   "outputs": [],
   "source": [
    "def bubble_sort_2(lst):\n",
    "    for _ in range(len(lst)):\n",
    "        swapped = False\n",
    "        for i in range(len(lst)-1):\n",
    "            if lst[i] > lst[i+1]:\n",
    "                tmp = lst[i]\n",
    "                lst[i] = lst[i+1]\n",
    "                lst[i+1] = tmp\n",
    "                swapped = True\n",
    "        if not swapped:\n",
    "            break\n",
    "    return lst"
   ]
  },
  {
   "cell_type": "code",
   "execution_count": 4,
   "id": "4c66b9f3-60ab-48c3-9ea5-3b4405b6cd10",
   "metadata": {},
   "outputs": [
    {
     "data": {
      "text/plain": [
       "[0, 1, 2, 5, 7, 12, 15, 42, 99]"
      ]
     },
     "execution_count": 4,
     "metadata": {},
     "output_type": "execute_result"
    }
   ],
   "source": [
    "bubble_sort(lst1)"
   ]
  },
  {
   "cell_type": "code",
   "execution_count": 5,
   "id": "61860e3c-3639-4397-ae61-bf81dceac6b1",
   "metadata": {},
   "outputs": [
    {
     "data": {
      "text/plain": [
       "[0, 11, 22, 33, 44, 55, 66, 77, 88, 99]"
      ]
     },
     "execution_count": 5,
     "metadata": {},
     "output_type": "execute_result"
    }
   ],
   "source": [
    "bubble_sort(lst2)"
   ]
  },
  {
   "cell_type": "code",
   "execution_count": 6,
   "id": "78d11988-ad65-40ad-9bdc-d87febd1715b",
   "metadata": {},
   "outputs": [],
   "source": [
    "lst1 = [0, 2, 1, 42, 5, 7, 15, 12, 99]\n",
    "lst2 = [99, 88, 77, 66, 55, 44, 33, 22, 11, 0]"
   ]
  },
  {
   "cell_type": "code",
   "execution_count": 7,
   "id": "d12c609b-0a57-43e7-811b-0b7df4d75af9",
   "metadata": {},
   "outputs": [
    {
     "data": {
      "text/plain": [
       "[0, 11, 22, 33, 44, 55, 66, 77, 88, 99]"
      ]
     },
     "execution_count": 7,
     "metadata": {},
     "output_type": "execute_result"
    }
   ],
   "source": [
    "bubble_sort_2(lst2)"
   ]
  },
  {
   "cell_type": "code",
   "execution_count": 8,
   "id": "88a542c5-11cb-4613-a15b-cf8ca44e55b9",
   "metadata": {},
   "outputs": [
    {
     "data": {
      "text/plain": [
       "[0, 1, 2, 5, 7, 12, 15, 42, 99]"
      ]
     },
     "execution_count": 8,
     "metadata": {},
     "output_type": "execute_result"
    }
   ],
   "source": [
    "bubble_sort_2(lst1)"
   ]
  }
 ],
 "metadata": {
  "kernelspec": {
   "display_name": "Python 3 (ipykernel)",
   "language": "python",
   "name": "python3"
  },
  "language_info": {
   "codemirror_mode": {
    "name": "ipython",
    "version": 3
   },
   "file_extension": ".py",
   "mimetype": "text/x-python",
   "name": "python",
   "nbconvert_exporter": "python",
   "pygments_lexer": "ipython3",
   "version": "3.8.12"
  }
 },
 "nbformat": 4,
 "nbformat_minor": 5
}
