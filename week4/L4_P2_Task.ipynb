{
 "cells": [
  {
   "cell_type": "markdown",
   "id": "daa7e919-3aec-453d-9df6-871472fc3bd4",
   "metadata": {},
   "source": [
    "1. Write a binary search"
   ]
  },
  {
   "cell_type": "code",
   "execution_count": 1,
   "id": "587b2a76-9354-4f0e-9e3a-8d6893ed87ff",
   "metadata": {},
   "outputs": [],
   "source": [
    "lst1 = [0, 11, 22, 33, 44, 55, 66, 77, 88, 99]\n",
    "lst2 = [0, 1, 1, 5, 5, 12, 15, 42, 99]"
   ]
  },
  {
   "cell_type": "code",
   "execution_count": 2,
   "id": "aaba1dac-f07e-45d0-a3f8-5384a5ce1418",
   "metadata": {},
   "outputs": [],
   "source": [
    "def binary_search(lst, value):\n",
    "    if len(lst) == 0:\n",
    "        return False\n",
    "    found = False\n",
    "    stop = False\n",
    "    tmp_lst = lst\n",
    "    while not found and not stop:\n",
    "        i = len(tmp_lst) // 2\n",
    "        if tmp_lst[i] == value:\n",
    "            found = True\n",
    "        elif len(tmp_lst) == 1:\n",
    "            stop = True\n",
    "        elif tmp_lst[i] > value:\n",
    "            tmp_lst = tmp_lst[0:i]\n",
    "        else:\n",
    "            tmp_lst = tmp_lst[i:len(tmp_lst)]\n",
    "    return found"
   ]
  },
  {
   "cell_type": "code",
   "execution_count": 3,
   "id": "7f43221e-c55c-437b-817d-1c1c32b7c26b",
   "metadata": {},
   "outputs": [
    {
     "data": {
      "text/plain": [
       "False"
      ]
     },
     "execution_count": 3,
     "metadata": {},
     "output_type": "execute_result"
    }
   ],
   "source": [
    "binary_search(lst1, 10)"
   ]
  },
  {
   "cell_type": "raw",
   "id": "f45835a6-370d-4c28-a244-5fdecd164ff0",
   "metadata": {},
   "source": [
    "[0, 11, 22, 33, 44, 55, 66, 77, 88, 99]  \n",
    "[0,  1,  2,  3,  4,  5,  6,  7,  8,  9]\n",
    "\n",
    "v = 10\n",
    "i = 4  \n",
    "44 > 10  \n",
    "\n",
    "i = 2  \n",
    "22 > 10  \n",
    "\n",
    "i = 1  \n",
    "11 > 10  \n",
    "\n",
    "i = 0  \n",
    "0 < 10  \n",
    "\n",
    "[0]  "
   ]
  },
  {
   "cell_type": "code",
   "execution_count": 4,
   "id": "fc8a024d-9e70-44ae-aa50-c71f5979dcbe",
   "metadata": {},
   "outputs": [],
   "source": [
    "def binary_search_2(lst, value):\n",
    "    if len(lst) == 0: # if the list is empty, we didn't find it\n",
    "        return False\n",
    "    start = 0 # initialise the start index at the start of the list\n",
    "    end = len(lst) # initialise the end index at the end of the list\n",
    "    middle = ((end-start) // 2) + start # the middle of the list is half the end minus the start, added to the start position\n",
    "    while lst[middle] != value and (start != end-1): \n",
    "        # we iterate as long as any of those two conditions are True:\n",
    "        # the value at our index middle is not the value we are looking for\n",
    "        # the start is different than end (the minus one is because the upper bound is excluded\n",
    "        # so if start == end-1, then [start:end] is the same as [start] so we are only testing one element\n",
    "        # if this element is not the one we are looking for, then we need to stop iterating\n",
    "        print(start, end)\n",
    "        if lst[middle] > value:\n",
    "            # we look on the left side of the list if the value is smaller than the current middle of the list\n",
    "            # to discard the half superior of the list, we change the end token to the middle\n",
    "            end = middle\n",
    "            middle = ((end-start) // 2) + start\n",
    "        else:\n",
    "            # we look on the right side of the list if the value is greater than the current middle of the list\n",
    "            # to discard the half inferior of the list, we change the start token to the middle\n",
    "            start = middle\n",
    "            middle = ((end-start) // 2) + start\n",
    "    return lst[middle] == value, middle  # we return whether we found the value, and the index where it would be if we found it"
   ]
  },
  {
   "cell_type": "code",
   "execution_count": 5,
   "id": "c9f47216-5c77-4958-bd26-ef4dcd04b04c",
   "metadata": {},
   "outputs": [
    {
     "name": "stdout",
     "output_type": "stream",
     "text": [
      "0 10\n",
      "5 10\n",
      "7 10\n"
     ]
    },
    {
     "data": {
      "text/plain": [
       "(True, 9)"
      ]
     },
     "execution_count": 5,
     "metadata": {},
     "output_type": "execute_result"
    }
   ],
   "source": [
    "binary_search_2(lst1, 99)"
   ]
  },
  {
   "cell_type": "code",
   "execution_count": 6,
   "id": "dfc23aea-1977-4726-a7ca-0b84b0f0ab07",
   "metadata": {},
   "outputs": [
    {
     "name": "stdout",
     "output_type": "stream",
     "text": [
      "0 10\n",
      "5 10\n",
      "7 10\n",
      "8 10\n"
     ]
    },
    {
     "data": {
      "text/plain": [
       "(False, 8)"
      ]
     },
     "execution_count": 6,
     "metadata": {},
     "output_type": "execute_result"
    }
   ],
   "source": [
    "binary_search_2(lst1, 93)"
   ]
  }
 ],
 "metadata": {
  "kernelspec": {
   "display_name": "Python 3 (ipykernel)",
   "language": "python",
   "name": "python3"
  },
  "language_info": {
   "codemirror_mode": {
    "name": "ipython",
    "version": 3
   },
   "file_extension": ".py",
   "mimetype": "text/x-python",
   "name": "python",
   "nbconvert_exporter": "python",
   "pygments_lexer": "ipython3",
   "version": "3.8.12"
  }
 },
 "nbformat": 4,
 "nbformat_minor": 5
}
