{
 "cells": [
  {
   "cell_type": "markdown",
   "id": "4e775e67-08fb-431f-a51b-bc2aec1de0c4",
   "metadata": {},
   "source": [
    "1. Write code for an insertion sort"
   ]
  },
  {
   "cell_type": "code",
   "execution_count": 1,
   "id": "814518fe-3488-4d10-96e6-09f7cac62811",
   "metadata": {},
   "outputs": [],
   "source": [
    "lst1 = [0, 2, 1, 42, 5, 7, 15, 12, 99]\n",
    "lst2 = [99, 88, 77, 66, 55, 44, 33, 22, 11, 0]"
   ]
  },
  {
   "cell_type": "code",
   "execution_count": 6,
   "id": "b7256219-a264-46d8-94bc-9634ff66b3b6",
   "metadata": {},
   "outputs": [],
   "source": [
    "def insertion_sort(lst):\n",
    "    # complete here\n",
    "    return lst"
   ]
  },
  {
   "cell_type": "code",
   "execution_count": 7,
   "id": "8875fd95-cc72-4562-8b2a-de0b2094e638",
   "metadata": {},
   "outputs": [
    {
     "data": {
      "text/plain": [
       "[0, 2, 1, 42, 5, 7, 15, 12, 99]"
      ]
     },
     "execution_count": 7,
     "metadata": {},
     "output_type": "execute_result"
    }
   ],
   "source": [
    "insertion_sort(lst1)"
   ]
  },
  {
   "cell_type": "code",
   "execution_count": 8,
   "id": "d0f8a509-5caf-411a-8675-379a5331a6e9",
   "metadata": {},
   "outputs": [
    {
     "data": {
      "text/plain": [
       "[99, 88, 77, 66, 55, 44, 33, 22, 11, 0]"
      ]
     },
     "execution_count": 8,
     "metadata": {},
     "output_type": "execute_result"
    }
   ],
   "source": [
    "insertion_sort(lst2)"
   ]
  }
 ],
 "metadata": {
  "kernelspec": {
   "display_name": "Python 3 (ipykernel)",
   "language": "python",
   "name": "python3"
  },
  "language_info": {
   "codemirror_mode": {
    "name": "ipython",
    "version": 3
   },
   "file_extension": ".py",
   "mimetype": "text/x-python",
   "name": "python",
   "nbconvert_exporter": "python",
   "pygments_lexer": "ipython3",
   "version": "3.8.12"
  }
 },
 "nbformat": 4,
 "nbformat_minor": 5
}
