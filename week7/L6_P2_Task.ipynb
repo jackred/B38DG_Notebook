{
 "cells": [
  {
   "cell_type": "markdown",
   "id": "9eb40b4f-f883-4952-a398-f903cb45a8b9",
   "metadata": {},
   "source": [
    "# Recursion"
   ]
  },
  {
   "cell_type": "markdown",
   "id": "95777b11-3237-4b52-90bf-c1f5134a22cb",
   "metadata": {},
   "source": [
    "## sum"
   ]
  },
  {
   "cell_type": "code",
   "execution_count": 1,
   "id": "20f2cf30-2cda-467a-82ea-49ce7416d743",
   "metadata": {},
   "outputs": [],
   "source": [
    "def sum_iterative(n):\n",
    "    res = 0\n",
    "    for i in range(0, n+1):\n",
    "        res += i\n",
    "    return res"
   ]
  },
  {
   "cell_type": "code",
   "execution_count": 2,
   "id": "4ae76a21-dd73-49c2-a7d5-e355906bf06e",
   "metadata": {},
   "outputs": [
    {
     "data": {
      "text/plain": [
       "15"
      ]
     },
     "execution_count": 2,
     "metadata": {},
     "output_type": "execute_result"
    }
   ],
   "source": [
    "sum_iterative(5)"
   ]
  },
  {
   "cell_type": "code",
   "execution_count": 3,
   "id": "7680a2f1-0699-48b8-9222-4f7c3574a01c",
   "metadata": {},
   "outputs": [],
   "source": [
    "def sum_recursion_one(n):\n",
    "    if n == 0: # base case\n",
    "        return 0 \n",
    "    else:\n",
    "        return n + sum_recursion_one(n-1)"
   ]
  },
  {
   "cell_type": "code",
   "execution_count": 4,
   "id": "86f28884-e13c-42cc-a7d3-f966a16613dd",
   "metadata": {},
   "outputs": [
    {
     "data": {
      "text/plain": [
       "15"
      ]
     },
     "execution_count": 4,
     "metadata": {},
     "output_type": "execute_result"
    }
   ],
   "source": [
    "sum_recursion_one(5)"
   ]
  },
  {
   "cell_type": "code",
   "execution_count": 5,
   "id": "df20eda5-0a56-4cc1-9c5e-3d3ce2436425",
   "metadata": {},
   "outputs": [],
   "source": [
    "def sum_recursion_two(n, acc=0):\n",
    "    if n == 0: # base case\n",
    "        return acc\n",
    "    else:\n",
    "        return sum_recursion_two(n-1, acc+n)"
   ]
  },
  {
   "cell_type": "code",
   "execution_count": 6,
   "id": "c0a76f55-3219-4674-a2f3-97549eb409eb",
   "metadata": {},
   "outputs": [
    {
     "data": {
      "text/plain": [
       "15"
      ]
     },
     "execution_count": 6,
     "metadata": {},
     "output_type": "execute_result"
    }
   ],
   "source": [
    "sum_recursion_two(5)"
   ]
  },
  {
   "cell_type": "markdown",
   "id": "a669a9cf-d408-4bf2-8172-b7d898665068",
   "metadata": {},
   "source": [
    "## factorial"
   ]
  },
  {
   "cell_type": "code",
   "execution_count": 7,
   "id": "3dda3a06-fc44-4ad4-ae66-b326ed57fa9b",
   "metadata": {},
   "outputs": [],
   "source": [
    "def factorial_iterative(n):\n",
    "    res = 1\n",
    "    for i in range(1, n+1):\n",
    "        res *= i\n",
    "    return res"
   ]
  },
  {
   "cell_type": "code",
   "execution_count": 8,
   "id": "e36cf919-64ef-4270-aa64-967d682f4ba4",
   "metadata": {},
   "outputs": [
    {
     "data": {
      "text/plain": [
       "120"
      ]
     },
     "execution_count": 8,
     "metadata": {},
     "output_type": "execute_result"
    }
   ],
   "source": [
    "factorial_iterative(5)"
   ]
  },
  {
   "cell_type": "code",
   "execution_count": 9,
   "id": "bbe3aebd-feb6-48e3-87ef-eecf0674d915",
   "metadata": {},
   "outputs": [],
   "source": [
    "def factorial_recursion_one(n):\n",
    "    if n == 0:\n",
    "        return 1\n",
    "    else:\n",
    "        return n * factorial_recursion_one(n-1)"
   ]
  },
  {
   "cell_type": "code",
   "execution_count": 10,
   "id": "2b9e0391-1fff-4ffd-9ca2-daa3ae84d76a",
   "metadata": {},
   "outputs": [
    {
     "data": {
      "text/plain": [
       "120"
      ]
     },
     "execution_count": 10,
     "metadata": {},
     "output_type": "execute_result"
    }
   ],
   "source": [
    "factorial_recursion_one(5)"
   ]
  },
  {
   "cell_type": "code",
   "execution_count": 11,
   "id": "1eda007d-63b4-4bc7-a662-e9630f3cc3ca",
   "metadata": {},
   "outputs": [],
   "source": [
    "def factorial_recursion_two(n, acc=1):\n",
    "    if n == 0:\n",
    "        return acc\n",
    "    else:\n",
    "        return factorial_recursion_two(n-1, acc*n)"
   ]
  },
  {
   "cell_type": "code",
   "execution_count": 12,
   "id": "945add5f-43f9-4c61-8713-c4a9de2d370d",
   "metadata": {},
   "outputs": [
    {
     "data": {
      "text/plain": [
       "120"
      ]
     },
     "execution_count": 12,
     "metadata": {},
     "output_type": "execute_result"
    }
   ],
   "source": [
    "factorial_recursion_two(5)"
   ]
  },
  {
   "cell_type": "markdown",
   "id": "dc24229c-dff1-43d9-823f-9bc3ed971ad0",
   "metadata": {},
   "source": [
    "## Fibonnaci"
   ]
  },
  {
   "cell_type": "code",
   "execution_count": 13,
   "id": "69c3a1f1-3397-4061-bfe8-71d7199d1ded",
   "metadata": {},
   "outputs": [],
   "source": [
    "def fibonnaci_recursive_one(n):\n",
    "    if n == 0:\n",
    "        return 0\n",
    "    elif n == 1:\n",
    "        return 1\n",
    "    else:\n",
    "        return fibonnaci_recursive_one(n-1) + fibonnaci_recursive_one(n-2)"
   ]
  },
  {
   "cell_type": "code",
   "execution_count": 14,
   "id": "d136d14b-ff77-40b3-84b3-0a5c942b3a1a",
   "metadata": {},
   "outputs": [
    {
     "data": {
      "text/plain": [
       "55"
      ]
     },
     "execution_count": 14,
     "metadata": {},
     "output_type": "execute_result"
    }
   ],
   "source": [
    "fibonnaci_recursive_one(10)"
   ]
  },
  {
   "cell_type": "markdown",
   "id": "97d35660-0813-46e5-a459-7a72b465979e",
   "metadata": {},
   "source": [
    "compute all value of fibonacci inferior to n  \n",
    "fibo(0) = 0  \n",
    "fibo(1) = 1  \n",
    "fibo(2) = 1  \n",
    "fibo(3) = 2  \n",
    "...  \n",
    "\n",
    "if we do fibo(4):  \n",
    "fibo(3) + fibo(2)  \n",
    "> (fibo(2) + fibo(1)) + (fibo(1) + fibo(0))  \n",
    "> ((fibo(1) + fibo(0)) + fibo(1)) + (fibo(1) + fibo(0))  \n",
    "instead we would do 2 + 1"
   ]
  },
  {
   "cell_type": "markdown",
   "id": "9890fd72-97ae-4258-960e-7f7b98dd7062",
   "metadata": {},
   "source": [
    "## binary search"
   ]
  },
  {
   "cell_type": "code",
   "execution_count": 15,
   "id": "2a61b229-16d3-46f7-b7c9-ec15ea572eb1",
   "metadata": {},
   "outputs": [],
   "source": [
    "def binary_search_one(arr, element):\n",
    "    if len(arr) == 1:\n",
    "        return arr[0] == element\n",
    "    else:\n",
    "        idx = len(arr) // 2\n",
    "        if arr[idx] == element:\n",
    "            return True\n",
    "        elif arr[idx] > element:\n",
    "            return binary_search_one(arr[0:idx], element)\n",
    "        else:\n",
    "            return binary_search_one(arr[idx:len(arr)], element)"
   ]
  },
  {
   "cell_type": "markdown",
   "id": "24182b29-be70-409d-97fd-2502a73120e6",
   "metadata": {},
   "source": [
    "element == arr[idx] OR binary_search(rest_of_the_array, element)"
   ]
  },
  {
   "cell_type": "code",
   "execution_count": 16,
   "id": "77207378-5fff-4258-833a-a05ff29748ca",
   "metadata": {},
   "outputs": [],
   "source": [
    "lst = [2, 4, 5, 12, 43, 54, 60, 77]"
   ]
  },
  {
   "cell_type": "code",
   "execution_count": 17,
   "id": "353ff964-85d1-40fb-a265-921d994175d3",
   "metadata": {},
   "outputs": [
    {
     "ename": "NameError",
     "evalue": "name 'bin_search_one' is not defined",
     "output_type": "error",
     "traceback": [
      "\u001b[1;31m---------------------------------------------------------------------------\u001b[0m",
      "\u001b[1;31mNameError\u001b[0m                                 Traceback (most recent call last)",
      "\u001b[1;32m~\\AppData\\Local\\Temp\\ipykernel_5364\\1201929520.py\u001b[0m in \u001b[0;36m<module>\u001b[1;34m\u001b[0m\n\u001b[1;32m----> 1\u001b[1;33m \u001b[0mbin_search_one\u001b[0m\u001b[1;33m(\u001b[0m\u001b[0mlst\u001b[0m\u001b[1;33m,\u001b[0m \u001b[1;36m77\u001b[0m\u001b[1;33m)\u001b[0m\u001b[1;33m\u001b[0m\u001b[1;33m\u001b[0m\u001b[0m\n\u001b[0m",
      "\u001b[1;31mNameError\u001b[0m: name 'bin_search_one' is not defined"
     ]
    }
   ],
   "source": [
    "bin_search_one(lst, 77)"
   ]
  },
  {
   "cell_type": "code",
   "execution_count": null,
   "id": "83ecc4d7-b7d3-48e9-9ad8-2d06fb015fd9",
   "metadata": {},
   "outputs": [],
   "source": [
    "def bin_search_two(arr, element, start=0, end=None):\n",
    "    if end is None:\n",
    "        end = len(arr)\n",
    "    if start > end:\n",
    "        return False, -1\n",
    "    midpoint = (end + start) // 2\n",
    "    if arr[midpoint] == element:\n",
    "        return True, midpoint\n",
    "    elif arr[midpoint] > element:\n",
    "        return bin_search_two(arr, element, start, midpoint-1)\n",
    "    else:\n",
    "        return bin_search_two(arr, element, midpoint+1, end)"
   ]
  },
  {
   "cell_type": "code",
   "execution_count": null,
   "id": "1a0fa417-423f-470c-849e-5c273125abd4",
   "metadata": {},
   "outputs": [],
   "source": [
    "bin_search_two(lst, 3)"
   ]
  },
  {
   "cell_type": "code",
   "execution_count": null,
   "id": "920997be-e61c-4af2-b7e4-7a3ea7b025e9",
   "metadata": {},
   "outputs": [],
   "source": []
  }
 ],
 "metadata": {
  "kernelspec": {
   "display_name": "Python 3 (ipykernel)",
   "language": "python",
   "name": "python3"
  },
  "language_info": {
   "codemirror_mode": {
    "name": "ipython",
    "version": 3
   },
   "file_extension": ".py",
   "mimetype": "text/x-python",
   "name": "python",
   "nbconvert_exporter": "python",
   "pygments_lexer": "ipython3",
   "version": "3.8.12"
  }
 },
 "nbformat": 4,
 "nbformat_minor": 5
}
