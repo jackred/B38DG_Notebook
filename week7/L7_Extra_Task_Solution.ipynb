{
 "cells": [
  {
   "cell_type": "markdown",
   "id": "18880e63-c966-492b-87da-e929de7e2117",
   "metadata": {},
   "source": [
    "Write the code to implement a node of a single linked list. It should be a class and should have an attribute value and an attribute next"
   ]
  },
  {
   "cell_type": "code",
   "execution_count": 1,
   "id": "72bd28cb-a431-4352-92f5-8dabd92252b4",
   "metadata": {},
   "outputs": [],
   "source": [
    "class Node():\n",
    "    def __init__(self, value, next_node=None):\n",
    "        self.value = value\n",
    "        self.next = next_node"
   ]
  },
  {
   "cell_type": "markdown",
   "id": "104fea5c-4ec9-4581-8ed8-77fa638065e2",
   "metadata": {},
   "source": [
    "Write the code to implement a node of a doubly linked list. It should be a class and should have an attribute value, an attribute previous and an attribute next"
   ]
  },
  {
   "cell_type": "code",
   "execution_count": 2,
   "id": "de5214cc-b40d-41c7-8056-7d0dc780b913",
   "metadata": {},
   "outputs": [],
   "source": [
    "class DoubleNode():\n",
    "    def __init__(self, value, next_node=None, previous=None):\n",
    "        self.value = value\n",
    "        self.next = next_node\n",
    "        self.previous = prev"
   ]
  },
  {
   "cell_type": "markdown",
   "id": "7161c8bc-5420-4261-83b1-7f887188f06a",
   "metadata": {},
   "source": [
    "Write a function `has_next` that take in input one node (`node_1`) and return True if it has a next node, False if it doesn't"
   ]
  },
  {
   "cell_type": "code",
   "execution_count": 3,
   "id": "dbad3d2a-7de1-4588-ace0-40110b939708",
   "metadata": {},
   "outputs": [],
   "source": [
    "# complete here\n",
    "def has_next(node_1):\n",
    "    return node_1.next is not None"
   ]
  },
  {
   "cell_type": "markdown",
   "id": "3103989d-1c42-4e1c-adc8-1b0f481804ff",
   "metadata": {},
   "source": [
    "Write a function `append_node` that take in input two nodes (`node_1`, `node_2`), and append `node_2` to `node_1`"
   ]
  },
  {
   "cell_type": "code",
   "execution_count": 4,
   "id": "c1e93a6d-df89-4d95-a5d2-430446da0afb",
   "metadata": {},
   "outputs": [],
   "source": [
    "# complete here\n",
    "def append_node(node_1, node_2):\n",
    "    node_1.next = node_2"
   ]
  },
  {
   "cell_type": "markdown",
   "id": "4c2b0205-1495-45fe-a388-a10ef8c3107d",
   "metadata": {},
   "source": [
    "Write a function `insert_node` that take in input two nodes (`node_1`, `node_2`) and insert `node_2` in between `node_1` and the node after `node_1`"
   ]
  },
  {
   "cell_type": "code",
   "execution_count": 5,
   "id": "1263dc55-01fc-4a74-8f35-70ed649ac5cd",
   "metadata": {},
   "outputs": [],
   "source": [
    "# complete here\n",
    "def insert_node(node_1, node_2):\n",
    "    append_node(node_2, node_1.next)\n",
    "    append_node(node_1, node_2)"
   ]
  },
  {
   "cell_type": "markdown",
   "id": "ba50180f-05b8-4c64-a85c-acc30fcf716d",
   "metadata": {},
   "source": [
    "Write a function `add_node` that take in input two nodes (`node_1`, `node_2`). If `node_1` doesn't have a next node, it appends `node_2` to `node_1`, otherwise it inserts `node_2` between `node_1` and its next node."
   ]
  },
  {
   "cell_type": "code",
   "execution_count": 6,
   "id": "d35ac521-28b4-4f85-b30c-348e463dc118",
   "metadata": {},
   "outputs": [],
   "source": [
    "# complete here\n",
    "def add_node(node_1, node_2):\n",
    "    if has_next(node_1):\n",
    "        insert_node(node_1, node_2)\n",
    "    else:\n",
    "        append_node(node_1, node_2)"
   ]
  },
  {
   "cell_type": "markdown",
   "id": "803aed6d-581a-4818-98c3-5db47ec49b26",
   "metadata": {},
   "source": [
    "Write a function `delete_next` that take in input one node (`node_1`) and remove its next node value"
   ]
  },
  {
   "cell_type": "code",
   "execution_count": 7,
   "id": "4f0d5550-2a72-40fc-9c87-194d52e24c51",
   "metadata": {},
   "outputs": [],
   "source": [
    "# complete here\n",
    "def delete_next(node_1):\n",
    "    del node_1.next\n",
    "    node_1.next = None"
   ]
  },
  {
   "cell_type": "markdown",
   "id": "fb51b9d6-e9fb-42c7-94c3-fe5e83fba033",
   "metadata": {},
   "source": [
    "Write a function `remove_next_node` that take in input one node (`node_1`), remove its next node value, and appends the next node of the removed node to `node_1`."
   ]
  },
  {
   "cell_type": "code",
   "execution_count": 8,
   "id": "c89285df-2b23-497c-b5e3-91d17f52a88c",
   "metadata": {},
   "outputs": [],
   "source": [
    "# complete here\n",
    "def remove_next_node(node_1):\n",
    "    tmp = node_1.next.next\n",
    "    delete_next(node_1)\n",
    "    append_node(node_1, tmp)"
   ]
  },
  {
   "cell_type": "markdown",
   "id": "871e6f1e-dc7c-4f61-8150-37b7dd5f6178",
   "metadata": {},
   "source": [
    "Write a function `remove_next` that take in input one node (`node_1`), remove its next node value, and appends the next node of the removed node to `node_1` if it has one."
   ]
  },
  {
   "cell_type": "code",
   "execution_count": 9,
   "id": "e03a4eaf-b850-4f77-b681-7f412a2c34c9",
   "metadata": {},
   "outputs": [],
   "source": [
    "def remove_next(node_1):\n",
    "    if has_next(node_1) and has_next(node_1.next):\n",
    "        remove_next_node(node_1)\n",
    "    else:\n",
    "        delete_next(node_1)"
   ]
  },
  {
   "cell_type": "markdown",
   "id": "db61745e-134d-4866-bcd4-4d2fa7a37319",
   "metadata": {},
   "source": [
    "Write a function `print_node` that take in input one node (`node_1`) and print its content"
   ]
  },
  {
   "cell_type": "code",
   "execution_count": 10,
   "id": "882b5043-da0d-46e6-a4da-aa919856ef25",
   "metadata": {},
   "outputs": [],
   "source": [
    "def print_node(node_1, end='\\n'):\n",
    "    print(f'[{node_1.value}]', end=end)"
   ]
  },
  {
   "cell_type": "markdown",
   "id": "c7358ffb-9c10-4e2b-a8dd-f8016859c2f3",
   "metadata": {},
   "source": [
    "Write a function `print_list` that take input one node (`node_1`) and print the content of the `node_1` and all the node connected to it in sequential order."
   ]
  },
  {
   "cell_type": "code",
   "execution_count": 11,
   "id": "f00b991b-8c8a-44bd-a839-22427ffa7836",
   "metadata": {},
   "outputs": [],
   "source": [
    "def print_list(node_1):\n",
    "    print_node(node_1, end='->')\n",
    "    if has_next(node_1):\n",
    "        print_list(node_1.next)\n",
    "    else:\n",
    "        print('None')"
   ]
  },
  {
   "cell_type": "markdown",
   "id": "faa7ada8-1082-4a76-8bb2-b2471d08a6c6",
   "metadata": {},
   "source": [
    "------"
   ]
  },
  {
   "cell_type": "code",
   "execution_count": 12,
   "id": "d2a54310-3d61-4060-a5b8-4064735bab8f",
   "metadata": {},
   "outputs": [
    {
     "name": "stdout",
     "output_type": "stream",
     "text": [
      "[6]->[4]->[5]->None\n"
     ]
    }
   ],
   "source": [
    "n1 = Node(5)\n",
    "n2 = Node(4, next_node=n1)\n",
    "n3 = Node(6, next_node=n2)\n",
    "n4 = Node(7)\n",
    "n5 = Node(42)\n",
    "n6 = Node(22)\n",
    "n7 = Node(28, next_node=n6)\n",
    "print_list(n3)"
   ]
  },
  {
   "cell_type": "code",
   "execution_count": 13,
   "id": "c9dee1c8-132b-44e0-a3dd-6d70683417dd",
   "metadata": {},
   "outputs": [
    {
     "data": {
      "text/plain": [
       "(True, False)"
      ]
     },
     "execution_count": 13,
     "metadata": {},
     "output_type": "execute_result"
    }
   ],
   "source": [
    "has_next(n3), has_next(n1)"
   ]
  },
  {
   "cell_type": "code",
   "execution_count": 14,
   "id": "b1ed38aa-7063-4dfb-af54-a250fc56a568",
   "metadata": {},
   "outputs": [
    {
     "name": "stdout",
     "output_type": "stream",
     "text": [
      "[6]->[4]->[5]->[28]->[22]->None\n"
     ]
    }
   ],
   "source": [
    "append_node(n1, n7)\n",
    "print_list(n3)"
   ]
  },
  {
   "cell_type": "code",
   "execution_count": 15,
   "id": "a73a3c29-0e79-4799-a51c-2a43846eae7f",
   "metadata": {},
   "outputs": [
    {
     "name": "stdout",
     "output_type": "stream",
     "text": [
      "[6]->[42]->[4]->[5]->[28]->[22]->None\n"
     ]
    }
   ],
   "source": [
    "insert_node(n3, n5)\n",
    "print_list(n3)"
   ]
  },
  {
   "cell_type": "code",
   "execution_count": 16,
   "id": "37dc402b-808d-4709-8699-327c41be7697",
   "metadata": {},
   "outputs": [
    {
     "name": "stdout",
     "output_type": "stream",
     "text": [
      "[6]->[42]->[4]->[7]->[5]->[28]->[22]->None\n"
     ]
    }
   ],
   "source": [
    "add_node(n2, n4)\n",
    "print_list(n3)"
   ]
  },
  {
   "cell_type": "code",
   "execution_count": 17,
   "id": "c90179e1-ff33-4ee0-b1c1-992852c3a68f",
   "metadata": {},
   "outputs": [
    {
     "name": "stdout",
     "output_type": "stream",
     "text": [
      "[6]->[42]->[4]->[7]->[5]->[28]->None\n"
     ]
    }
   ],
   "source": [
    "delete_next(n7)\n",
    "print_list(n3)"
   ]
  },
  {
   "cell_type": "code",
   "execution_count": 18,
   "id": "503eb0ba-8f3d-455d-ae11-6e15adae48d0",
   "metadata": {},
   "outputs": [
    {
     "name": "stdout",
     "output_type": "stream",
     "text": [
      "[6]->[4]->[7]->[5]->[28]->None\n"
     ]
    }
   ],
   "source": [
    "remove_next_node(n3)\n",
    "print_list(n3)"
   ]
  },
  {
   "cell_type": "code",
   "execution_count": 19,
   "id": "f13a8a75-0b76-4dcf-8a93-1a43dbd5cdd4",
   "metadata": {},
   "outputs": [
    {
     "name": "stdout",
     "output_type": "stream",
     "text": [
      "[6]->[4]->[7]->[5]->None\n"
     ]
    }
   ],
   "source": [
    "remove_next(n1)\n",
    "print_list(n3)"
   ]
  }
 ],
 "metadata": {
  "kernelspec": {
   "display_name": "Python 3 (ipykernel)",
   "language": "python",
   "name": "python3"
  },
  "language_info": {
   "codemirror_mode": {
    "name": "ipython",
    "version": 3
   },
   "file_extension": ".py",
   "mimetype": "text/x-python",
   "name": "python",
   "nbconvert_exporter": "python",
   "pygments_lexer": "ipython3",
   "version": "3.8.12"
  }
 },
 "nbformat": 4,
 "nbformat_minor": 5
}
