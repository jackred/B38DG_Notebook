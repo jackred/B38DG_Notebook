{
 "cells": [
  {
   "cell_type": "markdown",
   "id": "18880e63-c966-492b-87da-e929de7e2117",
   "metadata": {},
   "source": [
    "Write the code to implement a node of a single linked list. It should be a class and should have an attribute value and an attribute next"
   ]
  },
  {
   "cell_type": "code",
   "execution_count": 1,
   "id": "72bd28cb-a431-4352-92f5-8dabd92252b4",
   "metadata": {},
   "outputs": [],
   "source": [
    "# complete here"
   ]
  },
  {
   "cell_type": "markdown",
   "id": "104fea5c-4ec9-4581-8ed8-77fa638065e2",
   "metadata": {},
   "source": [
    "Write the code to implement a node of a doubly linked list. It should be a class and should have an attribute value, an attribute previous and an attribute next"
   ]
  },
  {
   "cell_type": "code",
   "execution_count": 2,
   "id": "de5214cc-b40d-41c7-8056-7d0dc780b913",
   "metadata": {},
   "outputs": [],
   "source": [
    "# complete here"
   ]
  },
  {
   "cell_type": "markdown",
   "id": "0d502d33-2c69-43c5-8aeb-120531549503",
   "metadata": {},
   "source": [
    "Write a function `has_next` that take in input one node (`node_1`) and return True if it has a next node, False if it doesn't"
   ]
  },
  {
   "cell_type": "code",
   "execution_count": 3,
   "id": "4895a751-6289-4ad0-afdf-006fea04389a",
   "metadata": {},
   "outputs": [],
   "source": [
    "# complete here\n",
    "def has_next():\n",
    "    pass"
   ]
  },
  {
   "cell_type": "markdown",
   "id": "3103989d-1c42-4e1c-adc8-1b0f481804ff",
   "metadata": {},
   "source": [
    "Write a function `append_node` that take in input two nodes (`node_1`, `node_2`), and append `node_2` to `node_1`"
   ]
  },
  {
   "cell_type": "code",
   "execution_count": 4,
   "id": "c1e93a6d-df89-4d95-a5d2-430446da0afb",
   "metadata": {},
   "outputs": [],
   "source": [
    "# complete here\n",
    "def append_node():\n",
    "    pass"
   ]
  },
  {
   "cell_type": "markdown",
   "id": "4c2b0205-1495-45fe-a388-a10ef8c3107d",
   "metadata": {},
   "source": [
    "Write a function `insert_node` that take in input two nodes (`node_1`, `node_2`) and insert `node_2` in between `node_1` and the node after `node_1`"
   ]
  },
  {
   "cell_type": "code",
   "execution_count": 5,
   "id": "1263dc55-01fc-4a74-8f35-70ed649ac5cd",
   "metadata": {},
   "outputs": [],
   "source": [
    "# complete here\n",
    "def insert_node():\n",
    "    pass"
   ]
  },
  {
   "cell_type": "markdown",
   "id": "ba50180f-05b8-4c64-a85c-acc30fcf716d",
   "metadata": {},
   "source": [
    "Write a function `add_node` that take in input two nodes (`node_1`, `node_2`). If `node_1` doesn't have a next node, it appends `node_2` to `node_1`, otherwise it inserts `node_2` between `node_1` and its next node."
   ]
  },
  {
   "cell_type": "code",
   "execution_count": 6,
   "id": "d35ac521-28b4-4f85-b30c-348e463dc118",
   "metadata": {},
   "outputs": [],
   "source": [
    "# complete here\n",
    "def add_node():\n",
    "    pass"
   ]
  },
  {
   "cell_type": "markdown",
   "id": "8dd9ab50-bfec-42c5-9775-07a65286e665",
   "metadata": {},
   "source": [
    "Write a function `delete_next` that take in input one node (`node_1`) and remove its next node value"
   ]
  },
  {
   "cell_type": "code",
   "execution_count": 7,
   "id": "5548fa4a-5666-4720-ba19-69ce5c472eed",
   "metadata": {},
   "outputs": [],
   "source": [
    "# complete here\n",
    "def delete_next():\n",
    "    pass"
   ]
  },
  {
   "cell_type": "markdown",
   "id": "45c8aa2a-e6a4-4283-93c9-1d9a28ef6fb2",
   "metadata": {},
   "source": [
    "Write a function `remove_next_node` that take in input one node (`node_1`), remove its next node value, and appends the next node of the removed node to `node_1`."
   ]
  },
  {
   "cell_type": "code",
   "execution_count": 8,
   "id": "feb66726-828b-4ec0-90e1-6af3d97db485",
   "metadata": {},
   "outputs": [],
   "source": [
    "# complete here\n",
    "def remove_next_node():\n",
    "    pass"
   ]
  },
  {
   "cell_type": "markdown",
   "id": "d62302cb-ee56-4832-83da-797cf03e9126",
   "metadata": {},
   "source": [
    "Write a function `remove_next` that take in input one node (`node_1`), remove its next node value, and appends the next node of the removed node to `node_1` if it has one."
   ]
  },
  {
   "cell_type": "code",
   "execution_count": 9,
   "id": "430a18e4-c497-4da0-9cd2-b73c12a500d5",
   "metadata": {},
   "outputs": [],
   "source": [
    "def remove_next():\n",
    "    pass"
   ]
  },
  {
   "cell_type": "markdown",
   "id": "93ba0e0a-e2a5-4dba-b5e5-8009c2c85233",
   "metadata": {},
   "source": [
    "Write a function `print_node` that take in input one node (`node_1`) and print its content"
   ]
  },
  {
   "cell_type": "code",
   "execution_count": 10,
   "id": "840406f9-6c21-4b0e-91b8-7b0bc0b5e885",
   "metadata": {},
   "outputs": [],
   "source": [
    "def print_node():\n",
    "    pass"
   ]
  },
  {
   "cell_type": "markdown",
   "id": "5624bf09-8794-4806-9e48-30ebf8ba8070",
   "metadata": {},
   "source": [
    "Write a function `print_list` that take input one node (`node_1`) and print the content of the `node_1` and all the node connected to it in sequential order."
   ]
  },
  {
   "cell_type": "code",
   "execution_count": 11,
   "id": "2a6e4adb-d975-4dd1-838f-5218bd280281",
   "metadata": {},
   "outputs": [],
   "source": [
    "def print_list():\n",
    "    pass"
   ]
  }
 ],
 "metadata": {
  "kernelspec": {
   "display_name": "Python 3 (ipykernel)",
   "language": "python",
   "name": "python3"
  },
  "language_info": {
   "codemirror_mode": {
    "name": "ipython",
    "version": 3
   },
   "file_extension": ".py",
   "mimetype": "text/x-python",
   "name": "python",
   "nbconvert_exporter": "python",
   "pygments_lexer": "ipython3",
   "version": "3.8.12"
  }
 },
 "nbformat": 4,
 "nbformat_minor": 5
}
