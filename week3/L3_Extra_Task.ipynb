{
 "cells": [
  {
   "cell_type": "markdown",
   "id": "1760ac85-ffde-4d81-badd-62453f6891d6",
   "metadata": {},
   "source": [
    "**Compute the complexity of this function used to compute the factorial**"
   ]
  },
  {
   "cell_type": "code",
   "execution_count": 6,
   "id": "9ef1d4c4-b763-482d-bdd5-d76cf54da370",
   "metadata": {},
   "outputs": [],
   "source": [
    "def factorial(n):\n",
    "    res = 1\n",
    "    for i in range(1, n+1):\n",
    "        res = res * i\n",
    "    return res"
   ]
  },
  {
   "cell_type": "code",
   "execution_count": 8,
   "id": "c0f92d94-8469-4745-9a72-9915f18bd17f",
   "metadata": {},
   "outputs": [
    {
     "data": {
      "text/plain": [
       "720"
      ]
     },
     "execution_count": 8,
     "metadata": {},
     "output_type": "execute_result"
    }
   ],
   "source": [
    "factorial(6)"
   ]
  },
  {
   "cell_type": "markdown",
   "id": "1cb3f43b-e720-48d5-8325-2fd8f8cc7d02",
   "metadata": {},
   "source": [
    "Answer:"
   ]
  },
  {
   "cell_type": "markdown",
   "id": "13e2a645-e8b4-43ad-a85e-bb8915c83e48",
   "metadata": {},
   "source": [
    "**Compute the complexity of the following function used to find the common element in 2 lists**"
   ]
  },
  {
   "cell_type": "code",
   "execution_count": 13,
   "id": "20f8adee-5cd8-487a-896c-7590499b7e38",
   "metadata": {},
   "outputs": [],
   "source": [
    "def find_common(lst, lst2):\n",
    "    res = []\n",
    "    for i in lst:\n",
    "        for j in lst2:\n",
    "            if i == j:\n",
    "                res.append(i)\n",
    "    return res"
   ]
  },
  {
   "cell_type": "code",
   "execution_count": 14,
   "id": "0bb83ec1-0331-4c97-a0a3-8aa6e1eff9c5",
   "metadata": {},
   "outputs": [
    {
     "data": {
      "text/plain": [
       "[2, 3]"
      ]
     },
     "execution_count": 14,
     "metadata": {},
     "output_type": "execute_result"
    }
   ],
   "source": [
    "test([1, 2, 3, 4], [2, 3, 5])"
   ]
  },
  {
   "cell_type": "markdown",
   "id": "2b4763e3-6516-496f-bd68-b7aa46b0f819",
   "metadata": {},
   "source": [
    "Answer:"
   ]
  }
 ],
 "metadata": {
  "kernelspec": {
   "display_name": "Python 3 (ipykernel)",
   "language": "python",
   "name": "python3"
  },
  "language_info": {
   "codemirror_mode": {
    "name": "ipython",
    "version": 3
   },
   "file_extension": ".py",
   "mimetype": "text/x-python",
   "name": "python",
   "nbconvert_exporter": "python",
   "pygments_lexer": "ipython3",
   "version": "3.8.12"
  }
 },
 "nbformat": 4,
 "nbformat_minor": 5
}
