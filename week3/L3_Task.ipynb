{
 "cells": [
  {
   "cell_type": "markdown",
   "id": "5193a8d8-de61-43bc-9f52-68ff404cd447",
   "metadata": {},
   "source": [
    "**1.\tFind the complexity of the following scenarios.**  \n",
    "a.\tScenario A: To find a contact in the telephone book, you start at the beginning and go through all of it till you find the desired number.  \n",
    "b.\tScenario B: To find a contact in the telephone book, you go to the middle and check the first contact. If it does not match with your desired contact, you either move to the first half or the second half of the telephone book.  \n",
    "Which of the two scenarios is faster?\n"
   ]
  },
  {
   "cell_type": "markdown",
   "id": "df4c5b6b-3d9e-450b-b8da-fa5fc4f5369f",
   "metadata": {},
   "source": [
    "a) sequentially, O(n) (linear search)"
   ]
  },
  {
   "cell_type": "markdown",
   "id": "33812d39-667c-4148-8c59-e43f0a924fc5",
   "metadata": {},
   "source": [
    "b) binary search, O(log(n))"
   ]
  },
  {
   "cell_type": "markdown",
   "id": "29e138a6-4a66-4b73-9e9c-fbebcf330363",
   "metadata": {},
   "source": [
    "scenario b is faster"
   ]
  },
  {
   "cell_type": "markdown",
   "id": "4816774c-d98e-4bc7-b86f-0abd4e0da688",
   "metadata": {},
   "source": [
    "**2.\tWhat is the time complexity of the following code that finds the largest item in an unsorted array.**"
   ]
  },
  {
   "cell_type": "markdown",
   "id": "45481e21-3b06-4320-9c36-4201990545ac",
   "metadata": {},
   "source": [
    "```\n",
    "function findMax(n) {  \n",
    "    let max;  \n",
    "    for (let i = 0; i < n.length; i++) {    \n",
    "        if(max === undefined || max < n[i]) {\n",
    "             max = n[i];    \n",
    "        }\n",
    "   }\n",
    "   return max;\n",
    "}\n",
    "```"
   ]
  },
  {
   "cell_type": "markdown",
   "id": "b215f642-7e53-4187-a9a6-afd8fb466438",
   "metadata": {},
   "source": [
    "Complexity: O(n) because it's a linear search  \n",
    "even $\\Theta(n)$, because the lower and upper bound are the same, because we go through the entire list in every case"
   ]
  },
  {
   "cell_type": "code",
   "execution_count": 3,
   "id": "60f0f199-2e98-4a18-be43-44faf9de0656",
   "metadata": {},
   "outputs": [],
   "source": [
    "def findMax(lst): # O(n)\n",
    "    m = float('-inf') # 1 operation\n",
    "    for i in range(len(n)):  # n iteration\n",
    "        if m < n[i]: # 2 operation\n",
    "            m = n[i] # 2 operation\n",
    "    return m"
   ]
  },
  {
   "cell_type": "markdown",
   "id": "79db4d9c-03fc-4891-a820-ea55fcc6da27",
   "metadata": {},
   "source": [
    "**Binary search:**\n",
    "breaking down:"
   ]
  },
  {
   "cell_type": "code",
   "execution_count": 5,
   "id": "1dc3d336-3eaf-46b5-8cdf-b2ac63a361bf",
   "metadata": {},
   "outputs": [],
   "source": [
    "lst = [1, 2, 3, 4, 5, 6, 7, 8, 9, 10 ,11, 12, 13]"
   ]
  },
  {
   "cell_type": "markdown",
   "id": "a91ad3e2-f053-4107-b73f-fac5ccafcaa5",
   "metadata": {},
   "source": [
    "we go to 7 # discarding half of the list `lst`, m1, of size n/2 \n",
    "3 / 10 # discarding half of the list `m1`, m2, of size m1/2  \n",
    "1 / 4 / 8 / 11 # discarding half of the list `m2`, m3, of size m2/2  \n",
    "2 / 5 / 9 / 12 \n",
    "13  \n",
    "\n"
   ]
  }
 ],
 "metadata": {
  "kernelspec": {
   "display_name": "Python 3 (ipykernel)",
   "language": "python",
   "name": "python3"
  },
  "language_info": {
   "codemirror_mode": {
    "name": "ipython",
    "version": 3
   },
   "file_extension": ".py",
   "mimetype": "text/x-python",
   "name": "python",
   "nbconvert_exporter": "python",
   "pygments_lexer": "ipython3",
   "version": "3.8.12"
  }
 },
 "nbformat": 4,
 "nbformat_minor": 5
}
