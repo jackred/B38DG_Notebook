{
 "cells": [
  {
   "cell_type": "markdown",
   "metadata": {},
   "source": [
    "# Linear Time Example"
   ]
  },
  {
   "cell_type": "code",
   "execution_count": 3,
   "metadata": {},
   "outputs": [
    {
     "name": "stdout",
     "output_type": "stream",
     "text": [
      "Total= 1249975000\n",
      "Time elapsed: 0.0009961128234863281\n"
     ]
    }
   ],
   "source": [
    "import time\n",
    "\n",
    "start = time.time()\n",
    "def ex1(n):\n",
    "    total = 0\n",
    "    for i in range(n):#time depends on number of iterations. Requires O(n) time.\n",
    "        total += i\n",
    "        \n",
    "    print('Total=',total)\n",
    "end = time.time()\n",
    "elapsed_time=end - start\n",
    "ex1(50000)\n",
    "print (\"Time elapsed:\", elapsed_time)\n"
   ]
  },
  {
   "cell_type": "code",
   "execution_count": 19,
   "metadata": {},
   "outputs": [
    {
     "name": "stdout",
     "output_type": "stream",
     "text": [
      "Count= 1000\n",
      "Time elapsed: 0.0\n"
     ]
    }
   ],
   "source": [
    "#There are 2 loops. You need to determine the time taken by each loop O(n). \n",
    "#Complexity O(n).\n",
    "import time\n",
    "start = time.time()\n",
    "def ex2( n ):\n",
    "    count = 0\n",
    "    for i in range( n ) :\n",
    "        count += 1\n",
    "    for j in range( n ) :\n",
    "        count += 1\n",
    "    print('Count=',count)\n",
    "y2=ex2(500)\n",
    "end = time.time()\n",
    "print (\"Time elapsed:\", end - start)"
   ]
  },
  {
   "cell_type": "markdown",
   "metadata": {},
   "source": [
    "# Quadratic Time Example"
   ]
  },
  {
   "cell_type": "code",
   "execution_count": 21,
   "metadata": {},
   "outputs": [
    {
     "name": "stdout",
     "output_type": "stream",
     "text": [
      "Count= 2500000000\n",
      "Time elapsed: 142.852942943573\n"
     ]
    }
   ],
   "source": [
    "#nested loops. The time of the inner loop has an impact on the time of the outer loop.\n",
    "#both loops executed n times resulting in a time of O(n^2)\n",
    "import time\n",
    "start = time.time()\n",
    "def ex3( n ):\n",
    "    count = 0\n",
    "    for i in range( n ) :\n",
    "        for j in range( n ) :\n",
    "            count += 1\n",
    "    print('Count=',count)\n",
    "y3=ex3(50000)\n",
    "end = time.time()\n",
    "print (\"Time elapsed:\", end - start)"
   ]
  },
  {
   "cell_type": "code",
   "execution_count": null,
   "metadata": {},
   "outputs": [],
   "source": [
    "#Time complexity is O(n) as the inner loop executes (for constant time) independent of the size variable n.\n",
    "import time\n",
    "start = time.time()\n",
    "def ex4( n ):\n",
    "    count = 0\n",
    "    for i in range( n ) :\n",
    "        for j in range( 25 ) :\n",
    "            count += 1\n",
    "    print('Count=',count)\n",
    "y4=ex4(500)\n",
    "end = time.time()\n",
    "print (\"Time elapsed:\", end - start)"
   ]
  },
  {
   "cell_type": "code",
   "execution_count": 23,
   "metadata": {},
   "outputs": [
    {
     "name": "stdout",
     "output_type": "stream",
     "text": [
      "Count= 125250\n",
      "Time elapsed: 0.006996631622314453\n"
     ]
    }
   ],
   "source": [
    "#The execuetion of the inner loop is dependent on the outer loop. \n",
    "#On the first iteration of the outer loop, the inner loop will execute one time; \n",
    "#on the second iteration, it executes two times; \n",
    "#and so on until the last iteration when the inner loop will execute n times.\n",
    "#time complexity of O(n^2)\n",
    "import time\n",
    "start = time.time()\n",
    "def ex5( n ):\n",
    "    count = 0\n",
    "    for i in range( n ) :\n",
    "        for j in range( i+1 ) :\n",
    "            count += 1\n",
    "    print('Count=',count)\n",
    "y5=ex5(500)\n",
    "end = time.time()\n",
    "print (\"Time elapsed:\", end - start)"
   ]
  },
  {
   "cell_type": "markdown",
   "metadata": {},
   "source": [
    "# Logarithmic Time Example"
   ]
  },
  {
   "cell_type": "code",
   "execution_count": null,
   "metadata": {},
   "outputs": [],
   "source": [
    "#The loop variable is divided by 2 each time, which will be less than n\n",
    "#if n is 16 variable i will have the values 16,8,4,2,1\n",
    "#time complexity is O(log n)\n",
    "import time\n",
    "start = time.time()\n",
    "def ex6( n ):\n",
    "    count = 0\n",
    "    i = n\n",
    "    while i >= 1 :\n",
    "        count += 1\n",
    "        i = i // 2\n",
    "    print('Count=',count)\n",
    "y6=ex6(500)\n",
    "end = time.time()\n",
    "print (\"Time elapsed:\", end - start)"
   ]
  },
  {
   "cell_type": "code",
   "execution_count": null,
   "metadata": {},
   "outputs": [],
   "source": [
    "#run time of O(nlogn) as loop is executed n times and \n",
    "#ex6() needs logarithmic time\n",
    "import time\n",
    "start = time.time()\n",
    "def ex7( n ):\n",
    "    count = 0\n",
    "    for i in range( n ):\n",
    "        count += ex6( n )#called from within a loop\n",
    "    print('Count=',count)\n",
    "y7=ex7(500)\n",
    "end = time.time()\n",
    "print (\"Time elapsed:\", end - start)"
   ]
  }
 ],
 "metadata": {
  "kernelspec": {
   "display_name": "Python 3 (ipykernel)",
   "language": "python",
   "name": "python3"
  },
  "language_info": {
   "codemirror_mode": {
    "name": "ipython",
    "version": 3
   },
   "file_extension": ".py",
   "mimetype": "text/x-python",
   "name": "python",
   "nbconvert_exporter": "python",
   "pygments_lexer": "ipython3",
   "version": "3.8.12"
  }
 },
 "nbformat": 4,
 "nbformat_minor": 4
}
