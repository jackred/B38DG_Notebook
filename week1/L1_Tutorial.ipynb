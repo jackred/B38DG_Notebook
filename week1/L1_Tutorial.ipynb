{
 "cells": [
  {
   "cell_type": "markdown",
   "id": "3c5472d4-9a1a-4ea6-ae1f-4841d11e3bc1",
   "metadata": {},
   "source": [
    "# Tutorial first class"
   ]
  },
  {
   "cell_type": "markdown",
   "id": "d45db08e-b557-4aef-80c3-15c1b63bd510",
   "metadata": {},
   "source": [
    "## List\n",
    "A list data structure holds sequence of items. An analogy for this could be the list of courses in a semester, your guest list or shopping list. The items in a Python list are separated by commas, enclosed in square brackets. Items can be added, removed or searched for in a list hence mutable data type. All methods for the list object can be found by using `help(list)`"
   ]
  },
  {
   "cell_type": "code",
   "execution_count": 1,
   "id": "df9eb544-f389-49aa-b18f-12ece6eba34d",
   "metadata": {},
   "outputs": [
    {
     "name": "stdout",
     "output_type": "stream",
     "text": [
      "\n",
      " I have 4 courses this semester.\n",
      "\n",
      " These courses are: Introduction to data structures and algorithms Data science ethics Operations Management Database Management System \n",
      " I also have to attend a course on Multivariate Calculus and Linear Algebra.\n",
      "\n",
      " My modified course list is ['Introduction to data structures and algorithms', 'Data science ethics', 'Operations Management', 'Database Management System', 'Multivariate Calculus and Linear Algebra ']\n",
      "\n",
      " Sorting the course list\n",
      "\n",
      " The sorted course list is ['Data science ethics', 'Database Management System', 'Introduction to data structures and algorithms', 'Multivariate Calculus and Linear Algebra ', 'Operations Management']\n",
      "\n",
      " The first lecture I have will be  Data science ethics\n",
      "\n",
      " I have attended Data science ethics\n",
      "\n",
      " My course list to attend is ['Database Management System', 'Introduction to data structures and algorithms', 'Multivariate Calculus and Linear Algebra ', 'Operations Management']\n",
      "\n",
      " Re-adding the first element\n",
      "\n",
      " The list is now ['Data science ethics', 'Database Management System', 'Introduction to data structures and algorithms', 'Multivariate Calculus and Linear Algebra ', 'Operations Management']\n",
      "The nested list: [[1, 2, 3], [3, 4, 5]]\n",
      "first element: [1, 2, 3]\n",
      "second element: [3, 4, 5]\n",
      "first element of the first element 1\n"
     ]
    }
   ],
   "source": [
    "#using lists\n",
    "# course list\n",
    "courselist = ['Introduction to data structures and algorithms', 'Data science ethics',\n",
    "'Operations Management', 'Database Management System']\n",
    "print('\\n I have', len(courselist), 'courses this semester.')\n",
    "print('\\n These courses are:', end=' ')\n",
    "for item in courselist:\n",
    "    print(item, end=' ')\n",
    "print('\\n I also have to attend a course on Multivariate Calculus and Linear Algebra.')\n",
    "courselist.append('Multivariate Calculus and Linear Algebra ')\n",
    "print('\\n My modified course list is', courselist)\n",
    "print('\\n Sorting the course list')\n",
    "courselist.sort()\n",
    "print('\\n The sorted course list is', courselist)\n",
    "print('\\n The first lecture I have will be ', courselist[0])\n",
    "olditem = courselist[0]\n",
    "del courselist[0]\n",
    "print('\\n I have attended', olditem)\n",
    "print('\\n My course list to attend is', courselist)\n",
    "print('\\n Re-adding the first element')\n",
    "courselist.insert(0, olditem)\n",
    "print('\\n The list is now', courselist)\n",
    "\n",
    "## nested list / multi dimensional list\n",
    "list_2d = [[1, 2, 3] , [3, 4, 5]]\n",
    "print('The nested list:', list_2d)\n",
    "print('first element:', list_2d[0])\n",
    "print('second element:', list_2d[1])\n",
    "print('first element of the first element', list_2d[0][0])"
   ]
  },
  {
   "cell_type": "markdown",
   "id": "ae6ebceb-dd73-4bb0-a878-aa0b9be294ad",
   "metadata": {},
   "source": [
    "## Tuple\n",
    "Tuples are collection of multiple objects which are immutable. Tuples are defined by listing items that are separated by commas within parentheses. Tuples should be used where you think the values will not change. For more methods in the tuple class use `help(tuple)`."
   ]
  },
  {
   "cell_type": "code",
   "execution_count": 2,
   "id": "502fceb4-efce-457d-834d-909969a4351c",
   "metadata": {},
   "outputs": [
    {
     "name": "stdout",
     "output_type": "stream",
     "text": [
      "Number of items on the list are 3\n",
      "Number of items in the new list are 3\n",
      "Total items in the new list are ('soap', 'sanitiser', ('rice', 'milk', 'eggs'))\n",
      "Items added from old list are ('rice', 'milk', 'eggs')\n",
      "Last item from old list is eggs\n",
      "Number of items in the new list are 5\n",
      "Result as one variable, a tuple: (1, 2)\n",
      "Result as two variable, 2 scalar: 1 2\n"
     ]
    }
   ],
   "source": [
    "#tuples\n",
    "# parentheses are optional but would be recommended for better organisation\n",
    "shoppinglist = ('rice', 'milk', 'eggs')\n",
    "print('Number of items on the list are', len(shoppinglist))\n",
    "\n",
    "#shoppinglist[0]='cereals' #cannot change in a tuple\n",
    "new_shoppinglist = 'soap', 'sanitiser', shoppinglist    # parentheses not required but are a good idea\n",
    "print('Number of items in the new list are', len(new_shoppinglist))\n",
    "print('Total items in the new list are', new_shoppinglist)\n",
    "print('Items added from old list are', new_shoppinglist[2])\n",
    "print('Last item from old list is', new_shoppinglist[2][2]) #access the third item within the third item in the new_zoo tuple by\n",
    "print('Number of items in the new list are',\n",
    "      len(new_shoppinglist)-1+len(new_shoppinglist[2]))\n",
    "\n",
    "# tuple can be used to return multiple value very easily\n",
    "def myfun():\n",
    "    return 1, 2\n",
    "\n",
    "res = myfun()\n",
    "print('Result as one variable, a tuple:', res)\n",
    "a, b = myfun()\n",
    "print('Result as two variable, 2 scalar:', a, b)"
   ]
  },
  {
   "cell_type": "markdown",
   "id": "4b91e9b2-e350-467a-8144-0f99f686046f",
   "metadata": {},
   "source": [
    "## Dictionary\n",
    "A dictionary is like a telephone directory or address-book, a telephone number (value) or address (value) can be found out if you know the name (key) of the person. They key has to be unique to find the correct information. They has to be immutable while the value can be mutable or immutable. They key value pair is separated by a colon where multiple key value entries are separated by commas within curly braces such as: `dict={key: value, key1:value1}`.  The list of methods in the dict class can be found by using `help(dict)`."
   ]
  },
  {
   "cell_type": "code",
   "execution_count": 3,
   "id": "42088940-190a-45ca-80fb-365a0c78cf71",
   "metadata": {},
   "outputs": [
    {
     "name": "stdout",
     "output_type": "stream",
     "text": [
      "Smurfettes' telephone number is 25896\n",
      "\n",
      " The record for Venus has been deleted\n",
      "\n",
      "There are 3 contacts in the telephone-book\n",
      "\n",
      "Call Smurfette at 25896\n",
      "Call Tinkerbell at 14789\n",
      "Call Mulan at 36987\n",
      "\n",
      " A new record for Ariel has been added\n",
      "\n",
      "Ariel's telephone number is 586947\n",
      "dict_keys(['Smurfette', 'Tinkerbell', 'Mulan', 'Ariel'])\n",
      "dict_values(['25896', '14789', '36987', '586947'])\n",
      "{'Smurfette': '25896', 'Tinkerbell': '14789', 'Mulan': '36987', 'Ariel': '55555'}\n",
      "Ariel is a key? True\n",
      "Whahaha is a key? False\n"
     ]
    }
   ],
   "source": [
    "#using dictionary\n",
    "# telephone book\n",
    "tel_bk = {\n",
    "    'Smurfette': '25896',\n",
    "    'Tinkerbell': '14789',\n",
    "    'Mulan': '36987',\n",
    "    'Venus': '74123'\n",
    "}\n",
    "print(\"Smurfettes' telephone number is\", tel_bk['Smurfette'])\n",
    "# Deleting a key-value pair\n",
    "del tel_bk['Venus']\n",
    "print('\\n The record for Venus has been deleted')\n",
    "print('\\nThere are {} contacts in the telephone-book\\n'.format(len(tel_bk)))\n",
    "for name, telephoneno in tel_bk.items():\n",
    "    print('Call {} at {}'.format(name, telephoneno))\n",
    "# Adding a key-value pair\n",
    "tel_bk['Ariel'] = '586947'\n",
    "print('\\n A new record for Ariel has been added')\n",
    "if 'Ariel' in tel_bk:\n",
    "    print(\"\\nAriel's telephone number is\", tel_bk['Ariel'])\n",
    "print(tel_bk.keys()) #displays all the keys in the dictionary\n",
    "print(tel_bk.values()) #displays all the values in the dictionary\n",
    "\n",
    "tel_bk['Ariel'] = '55555'\n",
    "print(tel_bk)\n",
    "\n",
    "print('Ariel is a key?', 'Ariel' in tel_bk)\n",
    "print('Whahaha is a key?', 'Whahaha' in tel_bk)"
   ]
  },
  {
   "cell_type": "markdown",
   "id": "cf0cd281-2c14-453f-ad61-dd534b945eec",
   "metadata": {},
   "source": [
    "## Set\n",
    "They are an unordered collection of unique objects. They are used when the number of occurrences and order are not important and are mutable."
   ]
  },
  {
   "cell_type": "code",
   "execution_count": 4,
   "id": "d8ce4979-3dda-4aba-8d62-2bb07d5fe59b",
   "metadata": {},
   "outputs": [
    {
     "name": "stdout",
     "output_type": "stream",
     "text": [
      "{'science', 2019, 2020, 'data', 'GA'}\n",
      "{'science', 2019, 2020, 'data'}\n",
      "{'science', 2019, 2020, 2021, 2022, 'data'}\n",
      "{'science', 2019, 2020, 2021, 2022, 'data'}\n",
      "{2019, 2020}\n",
      "{2019, 2020}\n",
      "\n",
      "Iterating\n",
      "science\n",
      "2019\n",
      "2020\n",
      "data\n"
     ]
    }
   ],
   "source": [
    "#sets\n",
    "ds_set={'data', 'science', 2019, 2020, 2019}\n",
    "ga_set={2019,2020,2021,2022}\n",
    "ds_set.add('GA')#adds a member to the set\n",
    "print(ds_set)\n",
    "ds_set.remove('GA')#removes a member from the set\n",
    "print(ds_set)\n",
    "print(ds_set|ga_set) # Unique elements in ga_set or ds_set or both\n",
    "print(ds_set.union(ga_set))\n",
    "print(ds_set & ga_set) # Elements in both ga_set and ds_set\n",
    "print(ds_set.intersection(ga_set))\n",
    "\n",
    "# iterating a set\n",
    "print('\\nIterating')\n",
    "for element in ds_set:\n",
    "    print(element)\n",
    "    \n",
    "# ga_set[0] # it's not possible to index set"
   ]
  }
 ],
 "metadata": {
  "kernelspec": {
   "display_name": "Python 3 (ipykernel)",
   "language": "python",
   "name": "python3"
  },
  "language_info": {
   "codemirror_mode": {
    "name": "ipython",
    "version": 3
   },
   "file_extension": ".py",
   "mimetype": "text/x-python",
   "name": "python",
   "nbconvert_exporter": "python",
   "pygments_lexer": "ipython3",
   "version": "3.8.10"
  }
 },
 "nbformat": 4,
 "nbformat_minor": 5
}
