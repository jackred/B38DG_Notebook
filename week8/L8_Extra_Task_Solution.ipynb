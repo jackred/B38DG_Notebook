{
 "cells": [
  {
   "cell_type": "markdown",
   "id": "44ee873d-ccf4-4571-ad5b-98a491a7fb7a",
   "metadata": {},
   "source": [
    "Create a class that represent the node of a stack. \n",
    "It should habe a \"value\" attribute and a \"next\" attribute.   \n",
    "Implement the following method:\n",
    "- prt: print the value of the node"
   ]
  },
  {
   "cell_type": "code",
   "execution_count": 1,
   "id": "a930f8a7-f814-449f-89d0-7414b759ce4b",
   "metadata": {},
   "outputs": [],
   "source": [
    "class SNode():\n",
    "    def __init__(self, value, nxt=None):\n",
    "        self.value = value\n",
    "        self.next = nxt\n",
    "        \n",
    "    def prt(self, end='\\n'):\n",
    "        print(f'[{self.value}]', end=end)"
   ]
  },
  {
   "cell_type": "markdown",
   "id": "c39c57f7-4a5d-464b-9192-ad04f249349b",
   "metadata": {},
   "source": [
    "Create a class that implement a stack with the following methods:\n",
    "- pop: remove the top of the stack, and return the value of the top\n",
    "- push_node: take a node in input, and push it to the top\n",
    "- push: take a value in input, create a node with it, and push the new node to the top of the stack\n",
    "- prt: print the value in the stack\n",
    "- collect: pop each item and store the result in a list"
   ]
  },
  {
   "cell_type": "code",
   "execution_count": 2,
   "id": "1f625fca-7c99-41fb-aa31-5c9d42d26352",
   "metadata": {},
   "outputs": [],
   "source": [
    "class Stack():\n",
    "    def __init__(self):\n",
    "        self.top = None\n",
    "    \n",
    "    def pop(self):\n",
    "        tmp = self.top\n",
    "        self.top = tmp.next\n",
    "        return tmp\n",
    "    \n",
    "    def push_node(self, node):\n",
    "        node.next = self.top\n",
    "        self.top = node\n",
    "    \n",
    "    def push(self, value):\n",
    "        node = SNode(value, self.top)\n",
    "        self.top = node\n",
    "            \n",
    "    def collect(self, acc=None):\n",
    "        if acc is None:\n",
    "            acc = []\n",
    "        if self.top is None:\n",
    "            return acc\n",
    "        else:\n",
    "            acc.append(self.pop().value)\n",
    "            return self.collect(acc)\n",
    "\n",
    "    def prt(self):\n",
    "        tmp = self.top\n",
    "        while tmp is not None:\n",
    "            tmp.prt(end='->')\n",
    "            tmp = tmp.next"
   ]
  },
  {
   "cell_type": "markdown",
   "id": "fe45e77c-5bfa-427c-9262-dda488390c5c",
   "metadata": {},
   "source": [
    "Create a class that represent the node of a queue. It should habe a \"value\" attribute and a \"previous\" attribute.\n",
    "Implement the following method:\n",
    "\n",
    "    prt: print the value of the node\n",
    "\n"
   ]
  },
  {
   "cell_type": "code",
   "execution_count": 3,
   "id": "6d45d215-59d3-444b-933e-2f1bfa4dc805",
   "metadata": {},
   "outputs": [],
   "source": [
    "class QNode():\n",
    "    def __init__(self, value, prv=None):\n",
    "        self.value = value\n",
    "        self.previous = prv\n",
    "        \n",
    "    def prt(self, end):\n",
    "        print(f'[{self.value}]', end=end)"
   ]
  },
  {
   "cell_type": "markdown",
   "id": "bf77c37a-a6fb-477b-9860-8e82261397e5",
   "metadata": {},
   "source": [
    "Create a class that implement a queue with the following methods:\n",
    "- pop: remove the front of the queue, and return the value of the front\n",
    "- push_node: take a node in input, and push it to the back\n",
    "- push: take a value in input, create a node with it, and push the new node to the back of the stack\n",
    "- prt: print the value in the stack\n",
    "- collect: pop each item and store the result in a list"
   ]
  },
  {
   "cell_type": "code",
   "execution_count": 4,
   "id": "fd8554a6-3d6f-45d5-9f4d-9cbb9372f052",
   "metadata": {},
   "outputs": [],
   "source": [
    "class Queue():\n",
    "    def __init__(self):\n",
    "        self.last = None\n",
    "        self.first = None\n",
    "        \n",
    "    def pop(self):\n",
    "        tmp = self.last\n",
    "        self.last = tmp.previous\n",
    "        if self.last is None:\n",
    "            self.first = None\n",
    "        return tmp\n",
    "    \n",
    "    def push_node(self, node):\n",
    "        if self.last is None:\n",
    "            self.last = node\n",
    "            self.first = self.last\n",
    "        else:\n",
    "            self.first.previous = node\n",
    "            self.first = node\n",
    "    \n",
    "    def push(self, value):\n",
    "        node = QNode(value, None)\n",
    "        self.push_node(node)\n",
    "        \n",
    "    def collect(self, acc=None):\n",
    "        if acc is None:\n",
    "            acc = []\n",
    "        if self.first is None:\n",
    "            return acc\n",
    "        else:\n",
    "            acc.append(self.pop().value)\n",
    "            return self.collect(acc)\n",
    "        \n",
    "    def to_str(self, mid=' '):\n",
    "        tmp = self.last\n",
    "        res = ''\n",
    "        while tmp is not None:\n",
    "            if res == '':\n",
    "                res = f'{tmp.value}'\n",
    "            else:\n",
    "                res = f'{tmp.value}{mid}{res}'\n",
    "            tmp = tmp.previous\n",
    "        return res\n",
    "    \n",
    "    def prt(self):\n",
    "        print(self.to_str(mid=' -> '))"
   ]
  },
  {
   "cell_type": "markdown",
   "id": "23e30736-371f-4b52-8101-d128a186df91",
   "metadata": {},
   "source": [
    "--------"
   ]
  },
  {
   "cell_type": "markdown",
   "id": "05854435-93e3-4de0-a367-df372b5e984c",
   "metadata": {},
   "source": [
    "Write a function taking a string as input, which return the words in a reverse order.  \n",
    "Example:  \n",
    "'Hey how are you' -> 'you are how hey'  \n",
    "'one two three' -> 'three two one'  \n",
    "Use space character as delimiter for words.  \n",
    "\n",
    "You should use a queue and a stack to solve this task."
   ]
  },
  {
   "cell_type": "code",
   "execution_count": 5,
   "id": "6e23480a-bb49-47ff-90e2-c31091644afa",
   "metadata": {},
   "outputs": [],
   "source": [
    "def reverse_order_word(string):\n",
    "    stack = Stack()\n",
    "    queue = Queue()\n",
    "    for ch in string:\n",
    "        if ch == ' ':\n",
    "            stack.push(''.join(queue.collect()))\n",
    "        else:\n",
    "            queue.push(ch)\n",
    "    stack.push(''.join(queue.collect()))\n",
    "    return ' '.join(stack.collect())"
   ]
  },
  {
   "cell_type": "code",
   "execution_count": 6,
   "id": "c4bf2c72-b1a8-481b-a4e6-9c66b9aa758b",
   "metadata": {},
   "outputs": [
    {
     "data": {
      "text/plain": [
       "\"hanged are they before not but ennemies one's forgive should One\""
      ]
     },
     "execution_count": 6,
     "metadata": {},
     "output_type": "execute_result"
    }
   ],
   "source": [
    "reverse_order_word(\"One should forgive one's ennemies but not before they are hanged\")"
   ]
  },
  {
   "cell_type": "code",
   "execution_count": 7,
   "id": "beee0462-6660-48d6-ae90-929106e17ac9",
   "metadata": {},
   "outputs": [
    {
     "data": {
      "text/plain": [
       "'construct social a is Death'"
      ]
     },
     "execution_count": 7,
     "metadata": {},
     "output_type": "execute_result"
    }
   ],
   "source": [
    "reverse_order_word('Death is a social construct')"
   ]
  },
  {
   "cell_type": "code",
   "execution_count": 8,
   "id": "6f67b857-253d-4688-a3ac-0e4503cd2bf9",
   "metadata": {},
   "outputs": [
    {
     "data": {
      "text/plain": [
       "'I did did, I'"
      ]
     },
     "execution_count": 8,
     "metadata": {},
     "output_type": "execute_result"
    }
   ],
   "source": [
    "reverse_order_word('I did, did I')"
   ]
  }
 ],
 "metadata": {
  "kernelspec": {
   "display_name": "Python 3 (ipykernel)",
   "language": "python",
   "name": "python3"
  },
  "language_info": {
   "codemirror_mode": {
    "name": "ipython",
    "version": 3
   },
   "file_extension": ".py",
   "mimetype": "text/x-python",
   "name": "python",
   "nbconvert_exporter": "python",
   "pygments_lexer": "ipython3",
   "version": "3.8.10"
  }
 },
 "nbformat": 4,
 "nbformat_minor": 5
}
