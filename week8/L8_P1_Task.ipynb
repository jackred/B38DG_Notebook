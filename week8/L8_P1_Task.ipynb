{
 "cells": [
  {
   "cell_type": "code",
   "execution_count": 7,
   "metadata": {},
   "outputs": [
    {
     "name": "stdout",
     "output_type": "stream",
     "text": [
      "[4]\n",
      "['dog', 4]\n",
      "['True', 'dog', 4]\n",
      "['xyz', 'True', 'dog', 4]\n",
      "the deleted item from the queue is 4\n",
      "['xyz', 'True', 'dog']\n",
      "size of queue is 3\n",
      "This time, it's: xyz\n",
      "This time, it's: True\n",
      "This time, it's: dog\n"
     ]
    }
   ],
   "source": [
    "#source: Hands-On Data Structures and Algorithms with Python\n",
    "#implementing a queue using list class\n",
    "class ListQueue:\n",
    "    def __init__(self):\n",
    "        self.items = [] #queue is empty when created\n",
    "        self.size = 0 #size of empty queue set to 0\n",
    "    def empty(self):\n",
    "        return self.items == []\n",
    "    def enqueue(self, data): #adds items to the queue at the front\n",
    "        self.items.insert(0, data) #insert items at index 0\n",
    "        self.size += 1\n",
    "    def dequeue(self):\n",
    "        data = self.items.pop()#delete the top most item from the queue\n",
    "        self.size -= 1\n",
    "        return data\n",
    "    def get_size(self):\n",
    "        return self.size\n",
    "\n",
    "#the items are shifted when added\n",
    "q= ListQueue()\n",
    "q.enqueue(4)\n",
    "print(q.items)\n",
    "q.enqueue('dog')\n",
    "print(q.items)\n",
    "q.enqueue('True')\n",
    "print(q.items)\n",
    "q.enqueue('xyz')\n",
    "print(q.items)\n",
    "poppeditem=q.dequeue()\n",
    "print(\"the deleted item from the queue is\", poppeditem)\n",
    "print(q.items)\n",
    "\n",
    "a= q.get_size()\n",
    "print(\"size of queue is\", a)\n",
    "for n in q.items:\n",
    "    print (\"This time, it's: \"+ str(n))\n"
   ]
  },
  {
   "cell_type": "code",
   "execution_count": 17,
   "metadata": {},
   "outputs": [
    {
     "name": "stdout",
     "output_type": "stream",
     "text": [
      "4<>dog<>True<>none\n",
      "4\n",
      "size of queue is 2\n"
     ]
    }
   ],
   "source": [
    "#source: Hands-On Data Structures and Algorithms with Python\n",
    "#implementing a queue using node class\n",
    "class Node(object):\n",
    "    def __init__(self, data=None, next=None, prev=None):\n",
    "        self.data = data\n",
    "        self.next = next\n",
    "        self.prev = prev\n",
    "\n",
    "\n",
    "class Queue: \n",
    "    def __init__(self): \n",
    "        self.head = None \n",
    "        self.tail = None \n",
    "        self.count = 0 \n",
    "\n",
    "    def enqueue(self, data): \n",
    "        new_node = Node(data, None, None) \n",
    "        if self.head is None: \n",
    "            self.head = new_node \n",
    "            self.tail = self.head \n",
    "        else: \n",
    "            new_node.prev = self.tail \n",
    "            self.tail.next = new_node \n",
    "            self.tail = new_node \n",
    "        self.count += 1 \n",
    "\n",
    "    def dequeue(self): \n",
    "        current = self.head\n",
    "        if self.count == 1: \n",
    "            self.head = None \n",
    "            self.tail = None\n",
    "        elif self.count > 1: \n",
    "            self.head = self.head.next \n",
    "            self.head.prev = None \n",
    "        self.count -= 1\n",
    "        return current\n",
    "            \n",
    "    def print_queue(self, node=None):\n",
    "        if node is None:\n",
    "            node = self.head\n",
    "        print(node.data, end='<>')\n",
    "        if node.next is not None:\n",
    "            self.print_queue(node.next)\n",
    "        else:\n",
    "            print('none')\n",
    "\n",
    "\n",
    "\n",
    "\n",
    "q= Queue()\n",
    "q.enqueue(4)\n",
    "q.enqueue('dog')\n",
    "q.enqueue('True')\n",
    "q.print_queue()\n",
    "a = q.dequeue()\n",
    "print(a.data)\n",
    "print(\"size of queue is\", q.count)\n"
   ]
  },
  {
   "cell_type": "code",
   "execution_count": 20,
   "metadata": {},
   "outputs": [
    {
     "name": "stdout",
     "output_type": "stream",
     "text": [
      "[5, 6, 7]\n",
      "[]\n",
      "[7, 6]\n",
      "[7]\n"
     ]
    }
   ],
   "source": [
    "#source: Hands-On Data Structures and Algorithms with Python\n",
    "#implementing queue using stack\n",
    "class Queue:\n",
    "    def __init__(self):\n",
    "        self.inbound_stack = []\n",
    "        self.outbound_stack = []\n",
    "\n",
    "    def dequeue(self):\n",
    "        if not self.outbound_stack:\n",
    "            while self.inbound_stack:\n",
    "                self.outbound_stack.append(self.inbound_stack.pop())\n",
    "        return self.outbound_stack.pop()\n",
    "\n",
    "    def enqueue(self, data):\n",
    "        self.inbound_stack.append(data)\n",
    "\n",
    "\n",
    "queue = Queue()\n",
    "queue.enqueue(5)\n",
    "queue.enqueue(6)\n",
    "queue.enqueue(7)\n",
    "print(queue.inbound_stack)\n",
    "queue.dequeue()\n",
    "print(queue.inbound_stack)\n",
    "print(queue.outbound_stack)\n",
    "queue.dequeue()\n",
    "print(queue.outbound_stack)"
   ]
  },
  {
   "cell_type": "code",
   "execution_count": null,
   "metadata": {},
   "outputs": [],
   "source": []
  },
  {
   "cell_type": "code",
   "execution_count": null,
   "metadata": {},
   "outputs": [],
   "source": []
  }
 ],
 "metadata": {
  "kernelspec": {
   "display_name": "Python 3 (ipykernel)",
   "language": "python",
   "name": "python3"
  },
  "language_info": {
   "codemirror_mode": {
    "name": "ipython",
    "version": 3
   },
   "file_extension": ".py",
   "mimetype": "text/x-python",
   "name": "python",
   "nbconvert_exporter": "python",
   "pygments_lexer": "ipython3",
   "version": "3.8.10"
  }
 },
 "nbformat": 4,
 "nbformat_minor": 4
}
