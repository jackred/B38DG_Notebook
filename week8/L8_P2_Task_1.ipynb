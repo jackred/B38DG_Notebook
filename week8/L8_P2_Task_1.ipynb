{
 "cells": [
  {
   "cell_type": "markdown",
   "metadata": {},
   "source": [
    "# Creating Node class"
   ]
  },
  {
   "cell_type": "code",
   "execution_count": 1,
   "metadata": {},
   "outputs": [],
   "source": [
    "#Source: Hands-On Data Structures and Algorithms with Python\n",
    "# the node holds data and a reference to the next item in a list. Using this to implement a stack\n",
    "class Node: \n",
    "    def __init__(self, data=None): \n",
    "        self.data = data \n",
    "        self.next = None"
   ]
  },
  {
   "cell_type": "markdown",
   "metadata": {},
   "source": [
    "# Creating a Stack class"
   ]
  },
  {
   "cell_type": "code",
   "execution_count": 2,
   "metadata": {},
   "outputs": [],
   "source": [
    "class Stack: \n",
    "    def __init__(self): \n",
    "        self.top = None #to identify the node that will be on top of the stack to perfoem the push and pop operations\n",
    "        self.size = 0 #to keep track of the size of the stack\n",
    "        #Push operation\n",
    "        #check if the stack already has data items or is it empty\n",
    "        #The new node will have its next pointer pointing to the node that was at the top before\n",
    "    def push(self, data): \n",
    "        node = Node(data) \n",
    "        if self.top is not None: \n",
    "            node.next = self.top \n",
    "            self.top = node                 \n",
    "        else: \n",
    "            self.top = node \n",
    "        self.size += 1 \n",
    "#pop operation\n",
    "#returns the topmost element of the stack and returns None if the stack is empty. \n",
    "#check if the top node's next is pointing to another node. Hence, stack has elements, and the top is pointing to the next node in the stack\n",
    "    def pop(self): \n",
    "        if self.top is not None:\n",
    "            data = self.top.data \n",
    "            self.size -= 1  \n",
    "            self.top = self.top.next \n",
    "            return data \n",
    "        else: \n",
    "            return None\n",
    "        #peek operation\n",
    "#the stack does not change\n",
    "    def peek(self): \n",
    "        if self.top is not None:\n",
    "            return self.top.data \n",
    "        else: \n",
    "            return None "
   ]
  },
  {
   "cell_type": "code",
   "execution_count": 13,
   "metadata": {},
   "outputs": [
    {
     "name": "stdout",
     "output_type": "stream",
     "text": [
      "not balanced\n"
     ]
    }
   ],
   "source": [
    "#Write code that checks matching/balanced parenthesis using a python list. \n",
    "#If an opening parenthesis is matched by a closing parenthesis true is returned.\n",
    "class Stack:\n",
    "    def __init__(self):\n",
    "        self.element = []\n",
    "    def empty(self) :\n",
    "        return self.element == []\n",
    "    def push(self, item):\n",
    "        self.element.append(item)\n",
    "    def pop(self):\n",
    "        return self.element.pop()\n",
    "    def check(self,lst):\n",
    "        #defining pairs of brackets where each opening bracket is followed by a closing bracket\n",
    "        matching_pairs={'(':')','{':'}','[':']'}\n",
    "        for item in lst:\n",
    "            if (item == '(' or item == '{' or item == '[' ):\n",
    "                stack.push(item)\n",
    "            elif ( item == ')' or item == '}' or item == ']'):\n",
    "                if not self.empty():\n",
    "                    element = self.pop()\n",
    "                    if not matching_pairs[element] == item:\n",
    "                        return 'not balanced'\n",
    "        return 'balanced' if self.empty() else 'not balanced'\n",
    "\n",
    "stack = Stack()\n",
    "#taking string input for parentheses and converting it to list\n",
    "statement = list('[(])')\n",
    "print(stack.check(statement))"
   ]
  },
  {
   "cell_type": "code",
   "execution_count": null,
   "metadata": {},
   "outputs": [],
   "source": []
  }
 ],
 "metadata": {
  "kernelspec": {
   "display_name": "Python 3 (ipykernel)",
   "language": "python",
   "name": "python3"
  },
  "language_info": {
   "codemirror_mode": {
    "name": "ipython",
    "version": 3
   },
   "file_extension": ".py",
   "mimetype": "text/x-python",
   "name": "python",
   "nbconvert_exporter": "python",
   "pygments_lexer": "ipython3",
   "version": "3.8.10"
  }
 },
 "nbformat": 4,
 "nbformat_minor": 4
}
