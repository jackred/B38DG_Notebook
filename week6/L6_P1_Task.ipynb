{
 "cells": [
  {
   "cell_type": "code",
   "execution_count": 1,
   "metadata": {},
   "outputs": [
    {
     "name": "stdout",
     "output_type": "stream",
     "text": [
      "The Hash value of the given string is: 3918014214939590996\n"
     ]
    }
   ],
   "source": [
    "#learn about the hash()method in Python, which returns the hash value of an object\n",
    "text= \"Data Structures and Algorithms\"\n",
    "#computing the hash value\n",
    "hash_val=hash(text)\n",
    "print(\"The Hash value of the given string is:\", hash_val)\n"
   ]
  },
  {
   "cell_type": "code",
   "execution_count": 12,
   "metadata": {},
   "outputs": [
    {
     "name": "stdout",
     "output_type": "stream",
     "text": [
      "The Hash value for 2021 is: 159164701010\n",
      "The Hash value for 2021.25 is: 576460752303425509\n",
      "159164457494\n"
     ]
    }
   ],
   "source": [
    "#Compute the hash value for the following: 1. 2021 and 2. 2021.25\n",
    "#Give the missing code\n",
    "print('The Hash value for 2021 is:', hash(159164701010))\n",
    "\n",
    "print('The Hash value for 2021.25 is:', hash(2021.25))\n",
    "\n",
    "class A:\n",
    "    def __init__(self):\n",
    "        pass\n",
    "    \n",
    "a = A()\n",
    "print(hash(a))\n"
   ]
  },
  {
   "cell_type": "code",
   "execution_count": 20,
   "metadata": {},
   "outputs": [
    {
     "data": {
      "text/plain": [
       "314"
      ]
     },
     "execution_count": 20,
     "metadata": {},
     "output_type": "execute_result"
    }
   ],
   "source": [
    "ord(\"7\")*1 + ord(\"8\")*2 + ord(\"1\")*3"
   ]
  },
  {
   "cell_type": "code",
   "execution_count": 17,
   "metadata": {},
   "outputs": [
    {
     "data": {
      "text/plain": [
       "314"
      ]
     },
     "execution_count": 17,
     "metadata": {},
     "output_type": "execute_result"
    }
   ],
   "source": [
    "ord(\"1\")*1 + ord(\"5\")*2 + ord(\"5\")*3"
   ]
  },
  {
   "cell_type": "markdown",
   "metadata": {},
   "source": [
    "# Hash Table"
   ]
  },
  {
   "cell_type": "code",
   "execution_count": 13,
   "metadata": {},
   "outputs": [],
   "source": [
    "#source: Hands-On Data Structures and Algorithms with Python\n",
    "#creating a class for holding hash table items\n",
    "#key,value pair\n",
    "class HashItem:\n",
    "    def __init__(self, key, value):\n",
    "        self.key = key\n",
    "        self.value = value"
   ]
  },
  {
   "cell_type": "code",
   "execution_count": 21,
   "metadata": {},
   "outputs": [],
   "source": [
    "#a hash table class\n",
    "class HashTable:\n",
    "    def __init__(self):#constructor\n",
    "        #setting size of hash table\n",
    "        self.size = 256\n",
    "        #using a Python list to store elements\n",
    "        self.slots = [None for i in range(self.size)]\n",
    "        self.count = 0 #for the actual hash table elements filled in table\n",
    "    #a hash function that will make sure that all 256 slots are filled\n",
    "    def _hash(self, key):#_hash for internal use by the class\n",
    "        #return the remainder of dividing the hash value by the size of the table\n",
    "        #it will be between 0 and 255\n",
    "        #hash function for strings\n",
    "        mult = 1\n",
    "        hashval = 0\n",
    "        for ch in key:\n",
    "            hashval += mult * ord(ch)\n",
    "            mult += 1\n",
    "        return hashval % self.size\n",
    "    \n",
    "    #Storing Element in a hash table\n",
    "    def put(self, key, value):\n",
    "        item = HashItem(key, value)\n",
    "        h = self._hash(key)\n",
    "        while self.slots[h] is not None:#finding an empty slot\n",
    "            if self.slots[h].key is key:\n",
    "                break\n",
    "            h = (h + 1) % self.size#open addressing linearly finding next slot\n",
    "        if self.slots[h] is None:\n",
    "            self.count += 1\n",
    "        self.slots[h] = item\n",
    "        \n",
    "    #retrieving elements from the hash table, the value stored corresponding\n",
    "    #to the key will be returned\n",
    "    def get(self, key):\n",
    "        h = self._hash(key)\n",
    "        while self.slots[h] is not None:\n",
    "            if self.slots[h].key is key:\n",
    "                return self.slots[h].value\n",
    "            h = (h+ 1) % self.size\n",
    "        return None#return none if key is not found\n",
    "    \n",
    "    def __setitem__(self, key, value):\n",
    "        self.put(key, value)\n",
    "\n",
    "    def __getitem__(self, key):\n",
    "        return self.get(key)"
   ]
  },
  {
   "cell_type": "code",
   "execution_count": 25,
   "metadata": {},
   "outputs": [
    {
     "name": "stdout",
     "output_type": "stream",
     "text": [
      "good > eggs\n",
      "better > ham\n",
      "best > spam\n",
      "worst > None\n",
      "ad > do not\n",
      "ga > collide\n",
      "The number of elements is: 6\n"
     ]
    }
   ],
   "source": [
    "ht = HashTable()\n",
    "ht[\"good\"] = \"eggs\"\n",
    "ht[\"better\"] = \"ham\"\n",
    "ht[\"best\"] = \"spam\"\n",
    "ht[\"ad\"] = \"do not\"\n",
    "ht[\"ga\"] = \"collide\"\n",
    "ht[\"data\"] = \"value\"\n",
    "\n",
    "\n",
    "\n",
    "for key in (\"good\", \"better\", \"best\", \"worst\", \"ad\", \"ga\"):\n",
    "    v = ht[key]\n",
    "    print(key,'>',  v)\n",
    "\n",
    "print(\"The number of elements is: {}\".format(ht.count))"
   ]
  },
  {
   "cell_type": "code",
   "execution_count": 28,
   "metadata": {},
   "outputs": [
    {
     "data": {
      "text/plain": [
       "(58, 58)"
      ]
     },
     "execution_count": 28,
     "metadata": {},
     "output_type": "execute_result"
    }
   ],
   "source": [
    "ht._hash('155'), ht._hash('781')"
   ]
  },
  {
   "cell_type": "code",
   "execution_count": 33,
   "metadata": {},
   "outputs": [
    {
     "name": "stdout",
     "output_type": "stream",
     "text": [
      "<__main__.HashItem object at 0x00000250EF4991F0>\n",
      "155\n"
     ]
    }
   ],
   "source": [
    "ht = HashTable()\n",
    "# print(ht.slots)\n",
    "ht['155'] = 'value'\n",
    "print(ht.slots[58])\n",
    "print(ht.slots[58].key)"
   ]
  },
  {
   "cell_type": "code",
   "execution_count": 35,
   "metadata": {},
   "outputs": [
    {
     "name": "stdout",
     "output_type": "stream",
     "text": [
      "<__main__.HashItem object at 0x00000250EF0E22B0>\n",
      "781\n"
     ]
    }
   ],
   "source": [
    "ht2 = HashTable()\n",
    "# print(ht.slots)\n",
    "ht2['781'] = 'value'\n",
    "print(ht2.slots[58])\n",
    "print(ht2.slots[58].key)"
   ]
  },
  {
   "cell_type": "code",
   "execution_count": 47,
   "metadata": {},
   "outputs": [
    {
     "name": "stdout",
     "output_type": "stream",
     "text": [
      "<__main__.HashItem object at 0x00000250EF4A5FD0>\n",
      "781 value\n",
      "<__main__.HashItem object at 0x00000250EF4A5B20>\n",
      "155\n",
      "<__main__.HashItem object at 0x00000250EF4A5D00>\n",
      "781 value3\n"
     ]
    }
   ],
   "source": [
    "ht3 = HashTable()\n",
    "# print(ht.slots)\n",
    "ht3['781'] = 'value'\n",
    "print(ht3.slots[58])\n",
    "print(ht3.slots[58].key, ht3.slots[58].value)\n",
    "ht3['155'] = 'value2'\n",
    "print(ht3.slots[59])\n",
    "print(ht3.slots[59].key)\n",
    "ht3['781'] = 'value3'\n",
    "print(ht3.slots[58])\n",
    "print(ht3.slots[58].key, ht3.slots[58].value)"
   ]
  },
  {
   "cell_type": "code",
   "execution_count": 53,
   "metadata": {},
   "outputs": [
    {
     "name": "stdout",
     "output_type": "stream",
     "text": [
      "value value2 value4\n"
     ]
    }
   ],
   "source": [
    "ht3 = HashTable()\n",
    "# print(ht.slots)\n",
    "ht3['781'] = 'value'\n",
    "ht3['155'] = 'value2'\n",
    "ht3['6545'] = 'value4'\n",
    "print(ht3['781'], ht3['155'], ht3['6545'])\n"
   ]
  },
  {
   "cell_type": "code",
   "execution_count": null,
   "metadata": {},
   "outputs": [],
   "source": []
  }
 ],
 "metadata": {
  "kernelspec": {
   "display_name": "Python 3 (ipykernel)",
   "language": "python",
   "name": "python3"
  },
  "language_info": {
   "codemirror_mode": {
    "name": "ipython",
    "version": 3
   },
   "file_extension": ".py",
   "mimetype": "text/x-python",
   "name": "python",
   "nbconvert_exporter": "python",
   "pygments_lexer": "ipython3",
   "version": "3.8.12"
  }
 },
 "nbformat": 4,
 "nbformat_minor": 4
}
