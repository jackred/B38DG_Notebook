{
 "cells": [
  {
   "cell_type": "markdown",
   "id": "1ada6db8-c17f-4e09-a4f8-afc05781fe1d",
   "metadata": {},
   "source": [
    "1. Write the code for the merge sort using recursion function"
   ]
  },
  {
   "cell_type": "code",
   "execution_count": 1,
   "id": "e078bcf9-871e-40a6-b578-86e6a7fad0c6",
   "metadata": {},
   "outputs": [],
   "source": [
    "lst1 = [0, 2, 1, 42, 5, 7, 15, 12, 99]\n",
    "lst2 = [99, 88, 77, 66, 55, 44, 33, 22, 11, 0]"
   ]
  },
  {
   "cell_type": "code",
   "execution_count": 2,
   "id": "382b9304-1775-49a6-b117-a0c5a54c4466",
   "metadata": {},
   "outputs": [],
   "source": [
    "def merge_sort(lst):\n",
    "    if len(lst) == 1:\n",
    "        return lst\n",
    "    idx = len(lst) // 2\n",
    "    left = merge_sort(lst[:idx])\n",
    "    right = merge_sort(lst[idx:])\n",
    "    res = []\n",
    "    i = 0\n",
    "    j = 0\n",
    "    for _ in range(len(lst)):\n",
    "        if j == len(right) or (i < len(left) and left[i] < right[j]):\n",
    "            res.append(left[i])\n",
    "            i += 1\n",
    "        else:\n",
    "            res.append(right[j])\n",
    "            j += 1\n",
    "    return res"
   ]
  },
  {
   "cell_type": "code",
   "execution_count": 3,
   "id": "a120c391-3b8c-4fb7-8350-7f6433dca479",
   "metadata": {},
   "outputs": [
    {
     "data": {
      "text/plain": [
       "[0, 1, 2, 5, 7, 12, 15, 42, 99]"
      ]
     },
     "execution_count": 3,
     "metadata": {},
     "output_type": "execute_result"
    }
   ],
   "source": [
    "merge_sort(lst1)"
   ]
  },
  {
   "cell_type": "code",
   "execution_count": 4,
   "id": "73965e99-ee5b-448b-a9f1-22b4fd1c80a0",
   "metadata": {},
   "outputs": [
    {
     "data": {
      "text/plain": [
       "[0, 11, 22, 33, 44, 55, 66, 77, 88, 99]"
      ]
     },
     "execution_count": 4,
     "metadata": {},
     "output_type": "execute_result"
    }
   ],
   "source": [
    "merge_sort(lst2)"
   ]
  }
 ],
 "metadata": {
  "kernelspec": {
   "display_name": "Python 3 (ipykernel)",
   "language": "python",
   "name": "python3"
  },
  "language_info": {
   "codemirror_mode": {
    "name": "ipython",
    "version": 3
   },
   "file_extension": ".py",
   "mimetype": "text/x-python",
   "name": "python",
   "nbconvert_exporter": "python",
   "pygments_lexer": "ipython3",
   "version": "3.8.12"
  }
 },
 "nbformat": 4,
 "nbformat_minor": 5
}
