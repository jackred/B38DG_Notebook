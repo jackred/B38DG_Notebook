{
 "cells": [
  {
   "cell_type": "markdown",
   "id": "fc00f55d-02d7-40a9-a726-75a828b2bd5b",
   "metadata": {},
   "source": [
    "Create a class that represent the node of a binary tree. It should have a \"right_child\" attribute and a \"left_child\" attribute.\n",
    "Implement the following method:\n",
    "\n",
    "    prt: print the value of the node"
   ]
  },
  {
   "cell_type": "code",
   "execution_count": 1,
   "id": "95dde6ad-9c35-4580-ab0f-176da765acb0",
   "metadata": {},
   "outputs": [],
   "source": [
    "class TNode():\n",
    "    def __init__(self, value):\n",
    "        self.value = value\n",
    "        self.right_child = None\n",
    "        self.left_child = None\n",
    "        \n",
    "    def prt(self, start='', end='\\n'):\n",
    "        print(f'{start}{self.value}', end=end)"
   ]
  },
  {
   "cell_type": "markdown",
   "id": "e69735d6-53ae-48ee-9d71-b1f66dda4d76",
   "metadata": {},
   "source": [
    "Write a function `print_tree` that iterates through a tree and display the value of each nodem"
   ]
  },
  {
   "cell_type": "code",
   "execution_count": 2,
   "id": "190b9add-b53b-4214-99bb-032730fecab1",
   "metadata": {},
   "outputs": [],
   "source": [
    "def print_tree(node, indent=''):\n",
    "    if node is None:\n",
    "        print(f'{indent}NONE')\n",
    "    else:\n",
    "        node.prt(start=indent, end='\\n')\n",
    "        indent = len(indent) * ' '\n",
    "        print_tree(node.left_child, indent+'|_')\n",
    "        print_tree(node.right_child, indent+'|_')"
   ]
  },
  {
   "cell_type": "markdown",
   "id": "c37ae05e-ddc0-4e72-876a-2f55b7e6b9d4",
   "metadata": {},
   "source": [
    "Write a function `simple_rotation_left`, which takes in input a node and apply a left rotation to it."
   ]
  },
  {
   "cell_type": "raw",
   "id": "6a05cc11-8dd0-42da-8751-8922cfafda5f",
   "metadata": {},
   "source": [
    "----6  >>  --5--  >>  4----\n",
    "---/-  >>  -/-\\-  >>  -\\---\n",
    "--5--  >>  4---6  >>  --5--\n",
    "-/---  >>  -----  >>  ---\\-\n",
    "4----  >>  -----  >>  ----6"
   ]
  },
  {
   "cell_type": "code",
   "execution_count": 3,
   "id": "e54048d1-6f97-42c3-96d9-3e2439470a88",
   "metadata": {},
   "outputs": [],
   "source": [
    "def simple_rotation_left(node, parent=None):\n",
    "    left = node.left_child\n",
    "    if left is not None:\n",
    "        if parent is not None:\n",
    "            if parent.left_child is node:\n",
    "                parent.left_child = left\n",
    "            else:\n",
    "                parent.right_child = left\n",
    "        node.left_child = None\n",
    "        left.right_child = node"
   ]
  },
  {
   "cell_type": "code",
   "execution_count": 4,
   "id": "ec3304cd-2d66-4e32-b992-5aaab103bf46",
   "metadata": {},
   "outputs": [
    {
     "name": "stdout",
     "output_type": "stream",
     "text": [
      "6\n",
      "|_5\n",
      "  |_4\n",
      "    |_NONE\n",
      "    |_NONE\n",
      "  |_NONE\n",
      "|_NONE\n"
     ]
    }
   ],
   "source": [
    "a = TNode(6)\n",
    "b = TNode(5)\n",
    "c = TNode(4)\n",
    "a.left_child = b\n",
    "b.left_child = c\n",
    "print_tree(a)"
   ]
  },
  {
   "cell_type": "code",
   "execution_count": 5,
   "id": "746f6651-fb21-4dbf-8a68-86aa9ec68159",
   "metadata": {},
   "outputs": [
    {
     "name": "stdout",
     "output_type": "stream",
     "text": [
      "5\n",
      "|_4\n",
      "  |_NONE\n",
      "  |_NONE\n",
      "|_6\n",
      "  |_NONE\n",
      "  |_NONE\n",
      "4\n",
      "|_NONE\n",
      "|_5\n",
      "  |_NONE\n",
      "  |_6\n",
      "    |_NONE\n",
      "    |_NONE\n"
     ]
    }
   ],
   "source": [
    "simple_rotation_left(a)\n",
    "print_tree(b)\n",
    "simple_rotation_left(b)\n",
    "print_tree(c)"
   ]
  },
  {
   "cell_type": "markdown",
   "id": "4dd81c39-df9d-4d67-81df-ace6f3eaf51e",
   "metadata": {},
   "source": [
    "Write a function `simple_rotation_right`, which takes in input a node and apply a right rotation to it."
   ]
  },
  {
   "cell_type": "raw",
   "id": "95ab8fef-62e6-4810-940b-57a76d8924ba",
   "metadata": {},
   "source": [
    "4----  >>  --5--  >>  ----6  \n",
    "-\\---  >>  -/-\\-  >>  ---/-   \n",
    "--5--  >>  4---6  >>  --5--  \n",
    "---\\-  >>  -----  >>  -/---  \n",
    "----6  >>  -----  >>  4----"
   ]
  },
  {
   "cell_type": "code",
   "execution_count": 6,
   "id": "5b837382-0b0f-4280-884c-f59c2106e19c",
   "metadata": {},
   "outputs": [],
   "source": [
    "def simple_rotation_right(node, parent=None):\n",
    "    right = node.right_child\n",
    "    if right is not None:\n",
    "        if parent is not None:\n",
    "            if parent.left_child is node:\n",
    "                parent.left_child = right\n",
    "            else:\n",
    "                parent.right_child = right\n",
    "        node.right_child = None\n",
    "        right.left_child = node"
   ]
  },
  {
   "cell_type": "code",
   "execution_count": 7,
   "id": "bdb9a735-01df-4055-bc0c-7360ac0d564c",
   "metadata": {},
   "outputs": [
    {
     "name": "stdout",
     "output_type": "stream",
     "text": [
      "4\n",
      "|_NONE\n",
      "|_5\n",
      "  |_NONE\n",
      "  |_6\n",
      "    |_NONE\n",
      "    |_NONE\n"
     ]
    }
   ],
   "source": [
    "a = TNode(6)\n",
    "b = TNode(5)\n",
    "c = TNode(4)\n",
    "c.right_child = b\n",
    "b.right_child = a\n",
    "print_tree(c)"
   ]
  },
  {
   "cell_type": "code",
   "execution_count": 8,
   "id": "ff128e5f-67ba-41ba-9093-36eeced2d127",
   "metadata": {},
   "outputs": [
    {
     "name": "stdout",
     "output_type": "stream",
     "text": [
      "5\n",
      "|_4\n",
      "  |_NONE\n",
      "  |_NONE\n",
      "|_6\n",
      "  |_NONE\n",
      "  |_NONE\n",
      "6\n",
      "|_5\n",
      "  |_4\n",
      "    |_NONE\n",
      "    |_NONE\n",
      "  |_NONE\n",
      "|_NONE\n"
     ]
    }
   ],
   "source": [
    "simple_rotation_right(c)\n",
    "print_tree(b)\n",
    "simple_rotation_right(b)\n",
    "print_tree(a)"
   ]
  },
  {
   "cell_type": "markdown",
   "id": "849db1ae-9ddd-4f29-9a14-c8778a40e8f0",
   "metadata": {},
   "source": [
    "Write a function `rotation_right_left`, which takes in input a node, and apply a right-left rotation to it."
   ]
  },
  {
   "cell_type": "raw",
   "id": "2fd0a003-f6d7-4b4d-bbdf-5b66a62c517a",
   "metadata": {},
   "source": [
    "4----  >  4----  >  --5--\n",
    "-\\---  >  -\\---  >  -/-\\-\n",
    "--6--  >  --5--  >  4---6\n",
    "-/---  >  ---\\-  >  -----\n",
    "5----  >  ----6  >  -----"
   ]
  },
  {
   "cell_type": "code",
   "execution_count": 9,
   "id": "647454ec-337d-4b16-b223-273f753f900b",
   "metadata": {},
   "outputs": [],
   "source": [
    "def rotation_right_left(node, parent=None):\n",
    "    right = node.right_child\n",
    "    if right is not None:\n",
    "        simple_rotation_left(right, node)\n",
    "        simple_rotation_right(node, parent)"
   ]
  },
  {
   "cell_type": "code",
   "execution_count": 10,
   "id": "049c2f5b-3fff-46c6-8501-183862c27616",
   "metadata": {},
   "outputs": [
    {
     "name": "stdout",
     "output_type": "stream",
     "text": [
      "4\n",
      "|_NONE\n",
      "|_6\n",
      "  |_5\n",
      "    |_NONE\n",
      "    |_NONE\n",
      "  |_NONE\n"
     ]
    }
   ],
   "source": [
    "a = TNode(6)\n",
    "b = TNode(5)\n",
    "c = TNode(4)\n",
    "c.right_child = a\n",
    "a.left_child = b\n",
    "print_tree(c)"
   ]
  },
  {
   "cell_type": "code",
   "execution_count": 11,
   "id": "ab9b339b-889e-491b-84ee-ac7a8164b658",
   "metadata": {},
   "outputs": [
    {
     "name": "stdout",
     "output_type": "stream",
     "text": [
      "5\n",
      "|_4\n",
      "  |_NONE\n",
      "  |_NONE\n",
      "|_6\n",
      "  |_NONE\n",
      "  |_NONE\n"
     ]
    }
   ],
   "source": [
    "rotation_right_left(c)\n",
    "print_tree(b)"
   ]
  },
  {
   "cell_type": "code",
   "execution_count": 12,
   "id": "8ac77eb3-2450-48ba-be26-273d4a82fe42",
   "metadata": {},
   "outputs": [
    {
     "name": "stdout",
     "output_type": "stream",
     "text": [
      "4\n",
      "|_NONE\n",
      "|_6\n",
      "  |_5\n",
      "    |_NONE\n",
      "    |_NONE\n",
      "  |_NONE\n"
     ]
    }
   ],
   "source": [
    "a = TNode(6)\n",
    "b = TNode(5)\n",
    "c = TNode(4)\n",
    "c.right_child = a\n",
    "a.left_child = b\n",
    "print_tree(c)"
   ]
  },
  {
   "cell_type": "code",
   "execution_count": 13,
   "id": "aba45f09-f6de-495e-812f-afb37b260201",
   "metadata": {},
   "outputs": [
    {
     "name": "stdout",
     "output_type": "stream",
     "text": [
      "4\n",
      "|_NONE\n",
      "|_5\n",
      "  |_NONE\n",
      "  |_6\n",
      "    |_NONE\n",
      "    |_NONE\n",
      "5\n",
      "|_4\n",
      "  |_NONE\n",
      "  |_NONE\n",
      "|_6\n",
      "  |_NONE\n",
      "  |_NONE\n"
     ]
    }
   ],
   "source": [
    "simple_rotation_left(a, c)\n",
    "print_tree(c)\n",
    "simple_rotation_right(c)\n",
    "print_tree(b)"
   ]
  },
  {
   "cell_type": "markdown",
   "id": "76751cbe-4652-41d9-8edf-fabcea57f54e",
   "metadata": {},
   "source": [
    "Write a function `rotation_left_right`, which takes in input a node, and apply a left-right rotation to it."
   ]
  },
  {
   "cell_type": "raw",
   "id": "fa8ac306-bbb0-4aaf-8ba0-834b38953a27",
   "metadata": {},
   "source": [
    "----6  >  ----6  >  --5--\n",
    "---/-  >  ---/-  >  -/-\\-\n",
    "--4--  >  --5--  >  4---6\n",
    "---\\-  >  -/---  >  -----\n",
    "----5  >  4----  >  -----"
   ]
  },
  {
   "cell_type": "code",
   "execution_count": 14,
   "id": "29671633-a397-4389-9a1a-999fb13e8699",
   "metadata": {},
   "outputs": [],
   "source": [
    "def rotation_left_right(node, parent=None):\n",
    "    left = node.left_child\n",
    "    if left is not None:\n",
    "        simple_rotation_right(left, node)\n",
    "        simple_rotation_left(node, parent)"
   ]
  },
  {
   "cell_type": "code",
   "execution_count": 15,
   "id": "940060d3-5262-40fa-93e8-c0580812721d",
   "metadata": {},
   "outputs": [
    {
     "name": "stdout",
     "output_type": "stream",
     "text": [
      "6\n",
      "|_4\n",
      "  |_NONE\n",
      "  |_5\n",
      "    |_NONE\n",
      "    |_NONE\n",
      "|_NONE\n"
     ]
    }
   ],
   "source": [
    "a = TNode(6)\n",
    "b = TNode(5)\n",
    "c = TNode(4)\n",
    "a.left_child = c\n",
    "c.right_child = b\n",
    "print_tree(a)"
   ]
  },
  {
   "cell_type": "code",
   "execution_count": 16,
   "id": "c83a76d6-2982-4b77-b78a-a7715fa894aa",
   "metadata": {},
   "outputs": [
    {
     "name": "stdout",
     "output_type": "stream",
     "text": [
      "5\n",
      "|_4\n",
      "  |_NONE\n",
      "  |_NONE\n",
      "|_6\n",
      "  |_NONE\n",
      "  |_NONE\n"
     ]
    }
   ],
   "source": [
    "rotation_left_right(a)\n",
    "print_tree(b)"
   ]
  },
  {
   "cell_type": "code",
   "execution_count": 17,
   "id": "0a9a1750-7d0f-452d-bf98-ebe8e3833049",
   "metadata": {},
   "outputs": [
    {
     "name": "stdout",
     "output_type": "stream",
     "text": [
      "6\n",
      "|_4\n",
      "  |_NONE\n",
      "  |_5\n",
      "    |_NONE\n",
      "    |_NONE\n",
      "|_NONE\n"
     ]
    }
   ],
   "source": [
    "a = TNode(6)\n",
    "b = TNode(5)\n",
    "c = TNode(4)\n",
    "a.left_child = c\n",
    "c.right_child = b\n",
    "print_tree(a)"
   ]
  },
  {
   "cell_type": "code",
   "execution_count": 18,
   "id": "3f18c281-3f85-46d4-af54-9a41387633b3",
   "metadata": {},
   "outputs": [
    {
     "name": "stdout",
     "output_type": "stream",
     "text": [
      "6\n",
      "|_5\n",
      "  |_4\n",
      "    |_NONE\n",
      "    |_NONE\n",
      "  |_NONE\n",
      "|_NONE\n",
      "\n",
      "\n",
      "5\n",
      "|_4\n",
      "  |_NONE\n",
      "  |_NONE\n",
      "|_6\n",
      "  |_NONE\n",
      "  |_NONE\n"
     ]
    }
   ],
   "source": [
    "simple_rotation_right(c, a)\n",
    "print_tree(a)\n",
    "print('\\n')\n",
    "simple_rotation_left(a)\n",
    "print_tree(b)"
   ]
  }
 ],
 "metadata": {
  "kernelspec": {
   "display_name": "Python 3 (ipykernel)",
   "language": "python",
   "name": "python3"
  },
  "language_info": {
   "codemirror_mode": {
    "name": "ipython",
    "version": 3
   },
   "file_extension": ".py",
   "mimetype": "text/x-python",
   "name": "python",
   "nbconvert_exporter": "python",
   "pygments_lexer": "ipython3",
   "version": "3.8.10"
  }
 },
 "nbformat": 4,
 "nbformat_minor": 5
}
