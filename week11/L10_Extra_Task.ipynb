{
 "cells": [
  {
   "cell_type": "markdown",
   "id": "fc00f55d-02d7-40a9-a726-75a828b2bd5b",
   "metadata": {},
   "source": [
    "Create a class that represent the node of a binary tree. It should have a \"right_child\" attribute and a \"left_child\" attribute.\n",
    "Implement the following method:\n",
    "\n",
    "    prt: print the value of the node"
   ]
  },
  {
   "cell_type": "code",
   "execution_count": 1,
   "id": "95dde6ad-9c35-4580-ab0f-176da765acb0",
   "metadata": {},
   "outputs": [],
   "source": [
    "# Complete here"
   ]
  },
  {
   "cell_type": "markdown",
   "id": "e69735d6-53ae-48ee-9d71-b1f66dda4d76",
   "metadata": {},
   "source": [
    "Write a function `print_tree` that iterates through a tree and display the value of each nodem"
   ]
  },
  {
   "cell_type": "code",
   "execution_count": 2,
   "id": "190b9add-b53b-4214-99bb-032730fecab1",
   "metadata": {},
   "outputs": [],
   "source": [
    "# Complete here"
   ]
  },
  {
   "cell_type": "markdown",
   "id": "c37ae05e-ddc0-4e72-876a-2f55b7e6b9d4",
   "metadata": {},
   "source": [
    "Write a function `simple_rotation_left`, which takes in input a node and apply a left rotation to it."
   ]
  },
  {
   "cell_type": "raw",
   "id": "6a05cc11-8dd0-42da-8751-8922cfafda5f",
   "metadata": {},
   "source": [
    "----6  >>  --5--  >>  4----\n",
    "---/-  >>  -/-\\-  >>  -\\---\n",
    "--5--  >>  4---6  >>  --5--\n",
    "-/---  >>  -----  >>  ---\\-\n",
    "4----  >>  -----  >>  ----6"
   ]
  },
  {
   "cell_type": "code",
   "execution_count": 3,
   "id": "e54048d1-6f97-42c3-96d9-3e2439470a88",
   "metadata": {},
   "outputs": [],
   "source": [
    "# Complete here"
   ]
  },
  {
   "cell_type": "markdown",
   "id": "4dd81c39-df9d-4d67-81df-ace6f3eaf51e",
   "metadata": {},
   "source": [
    "Write a function `simple_rotation_right`, which takes in input a node and apply a right rotation to it."
   ]
  },
  {
   "cell_type": "raw",
   "id": "95ab8fef-62e6-4810-940b-57a76d8924ba",
   "metadata": {},
   "source": [
    "4----  >>  --5--  >>  ----6  \n",
    "-\\---  >>  -/-\\-  >>  ---/-   \n",
    "--5--  >>  4---6  >>  --5--  \n",
    "---\\-  >>  -----  >>  -/---  \n",
    "----6  >>  -----  >>  4----"
   ]
  },
  {
   "cell_type": "code",
   "execution_count": 4,
   "id": "5b837382-0b0f-4280-884c-f59c2106e19c",
   "metadata": {},
   "outputs": [],
   "source": [
    "# Complete here"
   ]
  },
  {
   "cell_type": "markdown",
   "id": "849db1ae-9ddd-4f29-9a14-c8778a40e8f0",
   "metadata": {},
   "source": [
    "Write a function `rotation_right_left`, which takes in input a node, and apply a right-left rotation to it."
   ]
  },
  {
   "cell_type": "raw",
   "id": "2fd0a003-f6d7-4b4d-bbdf-5b66a62c517a",
   "metadata": {},
   "source": [
    "4----  >  4----  >  --5--\n",
    "-\\---  >  -\\---  >  -/-\\-\n",
    "--6--  >  --5--  >  4---6\n",
    "-/---  >  ---\\-  >  -----\n",
    "5----  >  ----6  >  -----"
   ]
  },
  {
   "cell_type": "code",
   "execution_count": 5,
   "id": "647454ec-337d-4b16-b223-273f753f900b",
   "metadata": {},
   "outputs": [],
   "source": [
    "# Complete here"
   ]
  },
  {
   "cell_type": "markdown",
   "id": "76751cbe-4652-41d9-8edf-fabcea57f54e",
   "metadata": {},
   "source": [
    "Write a function `rotation_left_right`, which takes in input a node, and apply a left-right rotation to it."
   ]
  },
  {
   "cell_type": "raw",
   "id": "fa8ac306-bbb0-4aaf-8ba0-834b38953a27",
   "metadata": {},
   "source": [
    "----6  >  ----6  >  --5--\n",
    "---/-  >  ---/-  >  -/-\\-\n",
    "--4--  >  --5--  >  4---6\n",
    "---\\-  >  -/---  >  -----\n",
    "----5  >  4----  >  -----"
   ]
  },
  {
   "cell_type": "code",
   "execution_count": 6,
   "id": "29671633-a397-4389-9a1a-999fb13e8699",
   "metadata": {},
   "outputs": [],
   "source": [
    "# Complete here"
   ]
  }
 ],
 "metadata": {
  "kernelspec": {
   "display_name": "Python 3 (ipykernel)",
   "language": "python",
   "name": "python3"
  },
  "language_info": {
   "codemirror_mode": {
    "name": "ipython",
    "version": 3
   },
   "file_extension": ".py",
   "mimetype": "text/x-python",
   "name": "python",
   "nbconvert_exporter": "python",
   "pygments_lexer": "ipython3",
   "version": "3.8.10"
  }
 },
 "nbformat": 4,
 "nbformat_minor": 5
}
